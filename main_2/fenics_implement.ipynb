{
 "cells": [
  {
   "cell_type": "code",
   "execution_count": 35,
   "metadata": {
    "collapsed": true
   },
   "outputs": [],
   "source": [
    "import numpy as np\n",
    "import pandas as pd\n",
    "import tensorflow as tf\n",
    "from tensorflow.keras import layers\n",
    "import scipy as sp\n",
    "import matplotlib.pyplot as plt\n",
    "import skfem as fem\n",
    "from skfem.helpers import dot, grad\n",
    "import numpy as np\n",
    "\n",
    "\n",
    "###################################\n",
    "#### Sparse approach\n",
    "###################################\n",
    "def theta(x_arr):\n",
    "    return (x_arr>=0.5)\n",
    "\n",
    "\n",
    "\n",
    "def fill_max_sparse_1(input_size):\n",
    "    max_arr = -np.array([[1, -1], [0, 1], [0, -1]])\n",
    "    iden = sp.sparse.eye(input_size)\n",
    "    max_sparse = sp.sparse.bsr_matrix(max_arr)\n",
    "    matrix = sp.sparse.kron(iden, max_sparse)\n",
    "    # matrix = np.kron(np.eye(input_size),max_arr)\n",
    "    # matrix = sp.sparse.bsr_matrix(matrix)\n",
    "    return matrix.T\n",
    "\n",
    "\n",
    "def fill_max_sparse_2(input_size):\n",
    "    array = -sp.sparse.bsr_matrix([1, 1, -1])\n",
    "    iden = sp.sparse.eye(input_size)\n",
    "    matrix = np.kron(np.eye(input_size), array)\n",
    "    matrix = sp.sparse.kron(iden, array)\n",
    "    return matrix.T\n",
    "\n",
    "\n",
    "def para_sparse_matrices(*arg):\n",
    "    result = []\n",
    "    for mat in zip(*arg):\n",
    "        sat = sp.sparse.block_diag(mat)\n",
    "        result.append(sat)\n",
    "    return result\n",
    "\n",
    "\n",
    "def shape_to_model(dense_matrix, activ =\"relu\",train=True):\n",
    "    shape_list = [a.shape for a in dense_matrix]\n",
    "    print(shape_list)\n",
    "    for i, shap in enumerate(shape_list):\n",
    "        if i == 0:\n",
    "            input_mat = tf.keras.Input(shape=(int(shap[0])))\n",
    "            net = layers.Dense(shap[1], activation=activ, bias_initializer='zeros', trainable=train)(input_mat)\n",
    "        else:\n",
    "            net = layers.Dense(shap[1], activation=activ, bias_initializer='zeros',trainable=train)(net)\n",
    "    model_matrix = tf.keras.Model(input_mat, net)\n",
    "    mat_init = [b for a in dense_matrix for b in [a.toarray(), np.zeros(a.shape[1])]]\n",
    "    model_matrix.set_weights(mat_init)\n",
    "    return model_matrix\n",
    "\n",
    "\n",
    "\n",
    "\n",
    "def shape_to_random_model(dense_matrix, activ =\"relu\",train=True):\n",
    "    shape_list = [a.shape for a in dense_matrix]\n",
    "    print(shape_list)\n",
    "    for i, shap in enumerate(shape_list):\n",
    "        if i == 0:\n",
    "            input_mat = tf.keras.Input(shape=(int(shap[0])))\n",
    "            net = layers.Dense(shap[1], activation=activ, bias_initializer='zeros', trainable=train)(input_mat)\n",
    "        else:\n",
    "            net = layers.Dense(shap[1], activation=activ, bias_initializer='zeros',trainable=train)(net)\n",
    "    model_matrix = tf.keras.Model(input_mat, net)\n",
    "    # mat_init = [b for a in dense_matrix for b in [a.toarray(), np.zeros(a.shape[1])]]\n",
    "    # model_matrix.set_weights(mat_init)\n",
    "    return model_matrix\n",
    "\n",
    "\n",
    "def set_up_max_matrix(depth):\n",
    "    result = []\n",
    "    while depth != 0:\n",
    "        result.append(fill_max_sparse_1(depth))\n",
    "        result.append(fill_max_sparse_2(depth))\n",
    "        depth = int(depth / 2)\n",
    "    return result\n",
    "\n",
    "\n",
    "\n",
    "def fill_min_sparse_1(input_size):\n",
    "  max_arr = np.array([[-1,1],[0,-1],[0,1]])\n",
    "  iden = sp.sparse.eye(input_size)\n",
    "  max_sparse = sp.sparse.bsr_matrix(max_arr)\n",
    "  matrix = sp.sparse.kron(iden,max_sparse)\n",
    "  return matrix.T\n",
    "\n",
    "def fill_min_sparse_2(input_size):\n",
    "  array = sp.sparse.bsr_matrix([-1,-1,1])\n",
    "  iden = sp.sparse.eye(input_size)\n",
    "  matrix = np.kron(np.eye(input_size), array)\n",
    "  matrix = sp.sparse.kron(iden,array)\n",
    "  return matrix.T\n",
    "\n",
    "def set_up_min_matrix(depth):\n",
    "  result = []\n",
    "  while depth != 0:\n",
    "    result.append(fill_min_sparse_1(depth))\n",
    "    result.append(fill_min_sparse_2(depth))\n",
    "    depth = int(depth/2)\n",
    "  return result\n",
    "\n",
    "\n",
    "def invert_matrix(point_list):\n",
    "    ones = np.ones((point_list.shape[0],1))\n",
    "    #print(ones, point_list)\n",
    "    point_list = np.concatenate((point_list,ones) , axis=1)\n",
    "    zeros = np.zeros((point_list.shape[0]))\n",
    "    zeros[0] = 1\n",
    "    solution = np.linalg.inv(point_list)@zeros\n",
    "    return solution"
   ]
  },
  {
   "cell_type": "code",
   "execution_count": 36,
   "outputs": [
    {
     "name": "stdout",
     "output_type": "stream",
     "text": [
      "[ 0.5  0.5 -1. ]\n"
     ]
    }
   ],
   "source": [
    "point_l = np.array([[2,2],[0,2],[2,0]])\n",
    "abab = invert_matrix(point_l)\n",
    "\n",
    "print(abab)"
   ],
   "metadata": {
    "collapsed": false,
    "pycharm": {
     "name": "#%%\n"
    }
   }
  },
  {
   "cell_type": "code",
   "execution_count": 37,
   "outputs": [
    {
     "name": "stdout",
     "output_type": "stream",
     "text": [
      "     0    1\n",
      "0  0.0  0.0\n",
      "1  0.0  0.5\n",
      "2  0.0  1.0\n",
      "3  0.5  0.0\n",
      "4  0.5  0.5\n",
      "5  0.5  1.0\n",
      "6  1.0  0.0\n",
      "7  1.0  0.5\n",
      "8  1.0  1.0\n"
     ]
    }
   ],
   "source": [
    "xmin=0\n",
    "xmax=1\n",
    "\n",
    "\n",
    "x = np.linspace(0,1,3)\n",
    "grid = np.meshgrid(x,x)\n",
    "\n",
    "X, Y = np.mgrid[xmin:xmax:3j, xmin:xmax:3j]\n",
    "positions = np.vstack([X.ravel(), Y.ravel()])\n",
    "\n",
    "positions = positions.T\n",
    "dim = positions.shape[0]\n",
    "ones = np.linspace(0,dim-1,dim).astype(int)\n",
    "\n",
    "res = pd.DataFrame(positions)\n",
    "#res = np.column_stack([ones.T,positions])\n",
    "\n",
    "print(res)"
   ],
   "metadata": {
    "collapsed": false,
    "pycharm": {
     "name": "#%%\n"
    }
   }
  },
  {
   "cell_type": "code",
   "execution_count": 51,
   "outputs": [
    {
     "name": "stdout",
     "output_type": "stream",
     "text": [
      "[[0.   1.   0.   1.   0.5  0.   0.5  1.   0.5  0.25 0.   0.75 0.75 1.\n",
      "  0.   0.25 0.25 1.   0.75 0.25 0.5  0.25 0.75 0.5  0.75]\n",
      " [0.   0.   1.   1.   0.   0.5  0.5  0.5  1.   0.   0.25 0.   0.25 0.25\n",
      "  0.75 0.75 1.   0.75 1.   0.25 0.25 0.5  0.5  0.75 0.75]] [[ 0  1  1  2  2  3  4  6  4  6  4  6  5  7  5  7  5  7  6  8  6  8  6  8\n",
      "   9 12 11 15 14 17 19 22]\n",
      " [ 9 12 11 15 14 17 19 22  9 12 11 15 14 17 19 22 10 13 12 16 15 18 20 23\n",
      "  10 13 12 16 15 18 20 23]\n",
      " [10 13 12 16 15 18 20 23 19 22 20 23 21 24 21 24 19 22 20 23 21 24 21 24\n",
      "  19 22 20 23 21 24 21 24]]\n",
      "      0    1\n",
      "0  0.00  0.0\n",
      "1  1.00  0.0\n",
      "2  0.00  1.0\n",
      "3  1.00  1.0\n",
      "4  0.25  0.0\n",
      "   0   1   2\n",
      "0  0   9  10\n",
      "1  1  12  13\n",
      "2  1  11  12\n",
      "3  2  15  16\n",
      "4  2  14  15\n"
     ]
    }
   ],
   "source": [
    "#print(res[res.index==1])\n",
    "#print(1 in res.iloc[31:32,:].values)\n",
    "#print(res.iloc[3].values)\n",
    "\n",
    "#res[res.index==31]\n",
    "\n",
    "\n",
    "mesh_grid = fem.MeshTri().refined(2)\n",
    "\n",
    "print(mesh_grid.p,mesh_grid.t)\n",
    "\n",
    "point_mesh = pd.DataFrame(mesh_grid.p).T**2\n",
    "print(point_mesh.head())\n",
    "simp_mesh = pd.DataFrame(mesh_grid.t).T\n",
    "print(simp_mesh.head())"
   ],
   "metadata": {
    "collapsed": false,
    "pycharm": {
     "name": "#%%\n"
    }
   }
  },
  {
   "cell_type": "code",
   "execution_count": 40,
   "outputs": [
    {
     "name": "stdout",
     "output_type": "stream",
     "text": [
      "   0  1  2\n",
      "0  0  1  4\n",
      "1  0  3  4\n",
      "2  1  2  5\n",
      "3  1  4  5\n",
      "4  3  4  7\n",
      "5  3  6  7\n",
      "6  4  5  8\n",
      "7  4  7  8\n"
     ]
    }
   ],
   "source": [
    "#generate the general patch\n",
    "def patches(positions):\n",
    "    result = []\n",
    "    #result = pd.DataFrame(data=a)\n",
    "    #result=result.T\n",
    "    for ind in range(0,dim-1):\n",
    "        if not( 1 in positions.iloc[ind:ind+1,:].values):\n",
    "            upper = [ind,ind+1,ind+4]\n",
    "            lower = [ind,ind+3, ind+4]\n",
    "            #upper.append([])\n",
    "            result.append(upper)\n",
    "            result.append(lower)\n",
    "    return pd.DataFrame(result)\n",
    "\n",
    "patch = patches(res)\n",
    "print(patch)"
   ],
   "metadata": {
    "collapsed": false,
    "pycharm": {
     "name": "#%%\n"
    }
   }
  },
  {
   "cell_type": "code",
   "execution_count": 41,
   "outputs": [
    {
     "name": "stdout",
     "output_type": "stream",
     "text": [
      "     0     1     2     3     4     5\n",
      "0    0   NaN   NaN   NaN   NaN   NaN\n",
      "1    1   2.0   NaN   NaN   NaN   NaN\n",
      "2    3   4.0   NaN   NaN   NaN   NaN\n",
      "3    5   NaN   NaN   NaN   NaN   NaN\n",
      "4    6   8.0  10.0   NaN   NaN   NaN\n",
      "5   12  14.0  16.0   NaN   NaN   NaN\n",
      "6    7   9.0  11.0  18.0  20.0  22.0\n",
      "7   13  15.0  17.0   NaN   NaN   NaN\n",
      "8   19  21.0  23.0   NaN   NaN   NaN\n",
      "9    0   8.0  24.0   NaN   NaN   NaN\n",
      "10   0  16.0  24.0   NaN   NaN   NaN\n",
      "11   2  10.0  26.0   NaN   NaN   NaN\n",
      "12   1   2.0   9.0  18.0  25.0  26.0\n",
      "13   1  17.0  25.0   NaN   NaN   NaN\n",
      "14   4  12.0  28.0   NaN   NaN   NaN\n",
      "15   3   4.0  11.0  20.0  27.0  28.0\n",
      "16   3  19.0  27.0   NaN   NaN   NaN\n",
      "17   5  13.0  29.0   NaN   NaN   NaN\n",
      "18   5  21.0  29.0   NaN   NaN   NaN\n",
      "19   6   8.0  14.0  16.0  24.0  30.0\n",
      "20   6  10.0  18.0  22.0  26.0  30.0\n",
      "21  12  14.0  20.0  22.0  28.0  30.0\n",
      "22   7   9.0  15.0  17.0  25.0  31.0\n",
      "23   7  11.0  19.0  23.0  27.0  31.0\n",
      "24  13  15.0  21.0  23.0  29.0  31.0\n"
     ]
    }
   ],
   "source": [
    "## generate the nearest neighbours\n",
    "\n",
    "def neighbour_ind(patches, points):\n",
    "    list = []\n",
    "    for ind in points.index:\n",
    "        obj = []\n",
    "        for pat in patches.index:\n",
    "            if (ind in patches.iloc[pat].values):\n",
    "                obj.append(pat)\n",
    "        list.append(obj)\n",
    "    return pd.DataFrame(list)\n",
    "pat_neighbour = neighbour_ind(simp_mesh,point_mesh)\n",
    "# old:  neighbour_ind(patch,res)\n",
    "print(pat_neighbour)"
   ],
   "metadata": {
    "collapsed": false,
    "pycharm": {
     "name": "#%%\n"
    }
   }
  },
  {
   "cell_type": "code",
   "execution_count": 42,
   "outputs": [
    {
     "name": "stdout",
     "output_type": "stream",
     "text": [
      "   0  1   2  3  4  5\n",
      "0  0 -1  -1 -1 -1 -1\n",
      "1  1  2  -1 -1 -1 -1\n",
      "2  3  4  -1 -1 -1 -1\n",
      "3  5 -1  -1 -1 -1 -1\n",
      "4  6  8  10 -1 -1 -1\n"
     ]
    }
   ],
   "source": [
    "pat_neighbour = pat_neighbour.fillna(-1)\n",
    "pat_neighbour = pat_neighbour.astype(int)\n",
    "\n",
    "print(pat_neighbour.head())"
   ],
   "metadata": {
    "collapsed": false,
    "pycharm": {
     "name": "#%%\n"
    }
   }
  },
  {
   "cell_type": "code",
   "execution_count": 43,
   "outputs": [
    {
     "name": "stdout",
     "output_type": "stream",
     "text": [
      "          0         1         2     3     4     5\n",
      "0   [9, 10]      None      None  None  None  None\n",
      "1  [12, 13]  [11, 12]      None  None  None  None\n",
      "2  [15, 16]  [14, 15]      None  None  None  None\n",
      "3  [17, 18]      None      None  None  None  None\n",
      "4  [19, 20]   [9, 19]  [11, 20]  None  None  None\n"
     ]
    }
   ],
   "source": [
    "def neighbour_p(patches, points):\n",
    "    list = []\n",
    "    for ind in points.index:\n",
    "        obj = []\n",
    "        for pat in patches.index:\n",
    "            if (ind in patches.iloc[pat].values):\n",
    "                #obj.append(pat)\n",
    "                loc_obj = [a for a in patches.iloc[pat].values\n",
    "                       if a !=ind\n",
    "                       ]\n",
    "                obj.append(loc_obj)\n",
    "        list.append(obj)\n",
    "    return pd.DataFrame(list)\n",
    "point_neighbour =  neighbour_p(simp_mesh,point_mesh)  # old: neighbour_p(patch,res)\n",
    "\n",
    "print(point_neighbour.head())"
   ],
   "metadata": {
    "collapsed": false,
    "pycharm": {
     "name": "#%%\n"
    }
   }
  },
  {
   "cell_type": "code",
   "execution_count": 44,
   "outputs": [],
   "source": [
    "\n",
    "def neighbour_point(patches, points):\n",
    "    list = []\n",
    "    for ind in points.index:\n",
    "        obj = []\n",
    "        for pat in patches.index:\n",
    "            if ind in patches.iloc[pat].values:\n",
    "                #obj.append(pat)\n",
    "                loc_obj = [points.iloc[a].values.tolist() for a in patches.iloc[pat].values\n",
    "                       if a!= ind\n",
    "                       ]\n",
    "                #loc_obj[0].append(ind)\n",
    "                #print(loc_obj)\n",
    "                loc_obj.insert(0,points.iloc[ind].values.tolist())\n",
    "                #print(loc_obj)\n",
    "                #break\n",
    "                inverted = invert_matrix(np.array(loc_obj))\n",
    "                # todo: insert above function here?\n",
    "                obj.append(inverted)\n",
    "                #print(ind)\n",
    "        list.append(obj)\n",
    "    return pd.DataFrame(list)\n",
    "point_neighbour = neighbour_point(simp_mesh,point_mesh)\n",
    "#neighbour_point(patch,res)"
   ],
   "metadata": {
    "collapsed": false,
    "pycharm": {
     "name": "#%%\n"
    }
   }
  },
  {
   "cell_type": "code",
   "execution_count": 10,
   "outputs": [
    {
     "name": "stdout",
     "output_type": "stream",
     "text": [
      "                   0                 1  \\\n",
      "0  [-4.0, -4.0, 1.0]              None   \n",
      "1   [0.0, -4.0, 1.0]  [4.0, 0.0, -3.0]   \n",
      "2   [-4.0, 0.0, 1.0]  [0.0, 4.0, -3.0]   \n",
      "3   [4.0, 4.0, -7.0]              None   \n",
      "4   [0.0, -4.0, 1.0]  [4.0, 0.0, -1.0]   \n",
      "\n",
      "                                                 2     3     4     5  \n",
      "0                                             None  None  None  None  \n",
      "1                                             None  None  None  None  \n",
      "2                                             None  None  None  None  \n",
      "3                                             None  None  None  None  \n",
      "4  [-3.9999999999999996, -4.0, 2.9999999999999996]  None  None  None  \n"
     ]
    }
   ],
   "source": [
    "print(point_neighbour.head())"
   ],
   "metadata": {
    "collapsed": false,
    "pycharm": {
     "name": "#%%\n"
    }
   }
  },
  {
   "cell_type": "code",
   "execution_count": null,
   "outputs": [],
   "source": [
    "point_neighbour.to_csv(\"point_neighbour_3.csv\")\n",
    "res.to_csv(\"res_points_3.csv\")"
   ],
   "metadata": {
    "collapsed": false,
    "pycharm": {
     "name": "#%%\n"
    }
   }
  },
  {
   "cell_type": "code",
   "execution_count": 13,
   "outputs": [],
   "source": [
    "# For loading i guess\n",
    "point_neighbour = pd.read_csv(\"point_neighbour_3.csv\")\n",
    "point_neighbour = point_neighbour.loc[:, ~point_neighbour.columns.str.contains('^Unnamed')]\n",
    "res = pd.read_csv(\"res_points_3.csv\")\n",
    "res = res.loc[:, ~res.columns.str.contains('^Unnamed')]"
   ],
   "metadata": {
    "collapsed": false,
    "pycharm": {
     "name": "#%%\n"
    }
   }
  },
  {
   "cell_type": "code",
   "execution_count": 45,
   "outputs": [],
   "source": [
    "#print(point_neighbour.head())\n",
    "\n",
    "point_neighbour = point_neighbour.fillna(value=np.nan)\n",
    "\n",
    "alt_point = point_neighbour.T.fillna(method='ffill').T\n",
    "alt_point.columns = ['1','2','3','4','5','6']\n",
    "#al\n",
    "alt_point['7'] = alt_point['1']\n",
    "alt_point['8'] = alt_point['2']\n",
    "stacked = alt_point.stack().values\n",
    "# print(stacked)\n",
    "vec = np.array([0.5,0.5,1])\n",
    "result = [aa@vec for aa in stacked]\n",
    "#print(tf.convert_to_tensor(stacked))\n",
    "stacked_tf = tf.stack([tf.convert_to_tensor(aa) for aa in stacked])\n",
    "#print(np.array(stacked_tf))\n",
    "\n",
    "\n",
    "def multiply_init(vector):\n",
    "    return [row_array@vector for row_array in stacked]\n",
    "#print(result)"
   ],
   "metadata": {
    "collapsed": false,
    "pycharm": {
     "name": "#%%\n"
    }
   }
  },
  {
   "cell_type": "code",
   "execution_count": 46,
   "outputs": [],
   "source": [
    "#TODO: 25 -> N\n",
    "\n",
    "def set_up_min_full():\n",
    "    minimum_list = set_up_min_matrix(4)\n",
    "    block_min_matrix = para_sparse_matrices(*[minimum_list for i in range(25)])\n",
    "    model_minimal = shape_to_model(block_min_matrix,activ=\"relu\", train=True)\n",
    "    new_model = tf.keras.Sequential()\n",
    "    new_model.add(model_minimal)\n",
    "    new_model.add(layers.Dense(1))#,activation=lambda x: x\n",
    "    new_model.compile()\n",
    "    new_model.layers[-1].set_weights([new_df['Values'].values.reshape(25,1),np.array([0])])\n",
    "    return new_model\n",
    "\n",
    "def set_up_random_full():\n",
    "    minimum_list = set_up_min_matrix(4)\n",
    "    block_min_matrix = para_sparse_matrices(*[minimum_list for i in range(25)])\n",
    "    model_ran = shape_to_random_model(block_min_matrix,activ=\"relu\", train=True)\n",
    "    random_model = tf.keras.Sequential()\n",
    "    random_model.add(model_ran)\n",
    "    random_model.add(layers.Dense(1))\n",
    "    random_model.compile()\n",
    "    return random_model\n",
    "\n",
    "\n",
    "def shape_to_model_glob_lin(activ =\"relu\",train=True):\n",
    "    minimum_list = set_up_min_matrix(4)\n",
    "    dense_matrix = para_sparse_matrices(*[minimum_list for i in range(25)])\n",
    "    shape_list = [a.shape for a in dense_matrix]\n",
    "    stack_array = np.array(stacked_tf)\n",
    "    print(shape_list)\n",
    "    for i, shap in enumerate(shape_list):\n",
    "        if i == 0:\n",
    "            input_mat = tf.keras.Input(shape=(3))\n",
    "            net = layers.Dense(shap[0], activation=activ, bias_initializer='zeros', trainable=train)(input_mat)\n",
    "            net = layers.Dense(shap[1], activation=activ, bias_initializer='zeros',trainable=train)(net)\n",
    "        else:\n",
    "            net = layers.Dense(shap[1], activation=activ, bias_initializer='zeros',trainable=train)(net)\n",
    "    model_matrix = tf.keras.Model(input_mat, net)\n",
    "    mat_init = [b for a in dense_matrix for b in [a.toarray(), np.zeros(a.shape[1])]]\n",
    "    mat_init.insert(0,np.zeros(stack_array.shape[0]))\n",
    "    mat_init.insert(0,stack_array.T)\n",
    "    model_matrix.set_weights(mat_init)\n",
    "    new_model = tf.keras.Sequential()\n",
    "    new_model.add(model_matrix)\n",
    "    new_model.add(layers.Dense(1))\n",
    "    new_model.compile()\n",
    "    new_model.layers[-1].set_weights([new_df['Values'].values.reshape(25,1),np.array([0])])\n",
    "    return new_model\n",
    "\n",
    "\n",
    "\n",
    "def random_to_model_glob_lin(activ =\"relu\",train=True):\n",
    "    minimum_list = set_up_min_matrix(4)\n",
    "    dense_matrix = para_sparse_matrices(*[minimum_list for i in range(25)])\n",
    "    shape_list = [a.shape for a in dense_matrix]\n",
    "    stack_array = np.array(stacked_tf)\n",
    "    print(shape_list)\n",
    "    reg = tf.keras.regularizers.l1(l1=0.01)\n",
    "    for i, shap in enumerate(shape_list):\n",
    "        if i == 0:\n",
    "            input_mat = tf.keras.Input(shape=(3))\n",
    "            net = layers.Dense(shap[0], activation=activ, bias_initializer='zeros', trainable=train)(input_mat)\n",
    "            net = layers.Dense(shap[1], activation=activ, bias_initializer='zeros',trainable=train,\n",
    "                               kernel_regularizer=reg, bias_regularizer=reg)(net)\n",
    "        else:\n",
    "            net = layers.Dense(shap[1], activation=activ, bias_initializer='zeros',trainable=train,\n",
    "                               kernel_regularizer=reg, bias_regularizer=reg)(net)\n",
    "    model_matrix = tf.keras.Model(input_mat, net)\n",
    "    new_model = tf.keras.Sequential()\n",
    "    new_model.add(model_matrix)\n",
    "    new_model.add(layers.Dense(1))\n",
    "    new_model.compile()\n",
    "    return new_model\n"
   ],
   "metadata": {
    "collapsed": false,
    "pycharm": {
     "name": "#%%\n"
    }
   }
  },
  {
   "cell_type": "code",
   "execution_count": 19,
   "outputs": [
    {
     "name": "stdout",
     "output_type": "stream",
     "text": [
      "[(200, 300), (300, 100), (100, 150), (150, 50), (50, 75), (75, 25)]\n",
      "[(200, 300), (300, 100), (100, 150), (150, 50), (50, 75), (75, 25)]\n"
     ]
    }
   ],
   "source": [
    "min_list = set_up_min_matrix(4)\n",
    "\n",
    "block_min = para_sparse_matrices(*[min_list for i in range(25)])\n",
    "\n",
    "\n",
    "model_min = shape_to_model(block_min,activ=\"relu\", train=True)\n",
    "\n",
    "model_total_min = shape_to_model_glob_lin()"
   ],
   "metadata": {
    "collapsed": false,
    "pycharm": {
     "name": "#%%\n"
    }
   }
  },
  {
   "cell_type": "code",
   "execution_count": 74,
   "outputs": [
    {
     "name": "stdout",
     "output_type": "stream",
     "text": [
      "[(72, 108), (108, 36), (36, 54), (54, 18), (18, 27), (27, 9)]\n"
     ]
    }
   ],
   "source": [
    "model_ran = shape_to_random_model(block_min,activ=\"relu\", train=True)"
   ],
   "metadata": {
    "collapsed": false,
    "pycharm": {
     "name": "#%%\n"
    }
   }
  },
  {
   "cell_type": "code",
   "execution_count": 12,
   "outputs": [
    {
     "ename": "NameError",
     "evalue": "name 'result' is not defined",
     "output_type": "error",
     "traceback": [
      "\u001B[0;31m---------------------------------------------------------------------------\u001B[0m",
      "\u001B[0;31mNameError\u001B[0m                                 Traceback (most recent call last)",
      "\u001B[0;32m<ipython-input-12-ebf4469f20f8>\u001B[0m in \u001B[0;36m<module>\u001B[0;34m\u001B[0m\n\u001B[0;32m----> 1\u001B[0;31m \u001B[0mtensor_min\u001B[0m \u001B[0;34m=\u001B[0m \u001B[0mtf\u001B[0m\u001B[0;34m.\u001B[0m\u001B[0mconvert_to_tensor\u001B[0m\u001B[0;34m(\u001B[0m\u001B[0mnp\u001B[0m\u001B[0;34m.\u001B[0m\u001B[0marray\u001B[0m\u001B[0;34m(\u001B[0m\u001B[0mresult\u001B[0m\u001B[0;34m)\u001B[0m\u001B[0;34m.\u001B[0m\u001B[0mreshape\u001B[0m\u001B[0;34m(\u001B[0m\u001B[0;34m(\u001B[0m\u001B[0;36m1\u001B[0m\u001B[0;34m,\u001B[0m\u001B[0;36m72\u001B[0m\u001B[0;34m)\u001B[0m\u001B[0;34m)\u001B[0m\u001B[0;34m)\u001B[0m\u001B[0;34m\u001B[0m\u001B[0;34m\u001B[0m\u001B[0m\n\u001B[0m\u001B[1;32m      2\u001B[0m \u001B[0;31m#tf.math.reduce_sum(model_min(tf.convert_to_tensor(np.array(result).reshape((1,8192)))))\u001B[0m\u001B[0;34m\u001B[0m\u001B[0;34m\u001B[0m\u001B[0;34m\u001B[0m\u001B[0m\n\u001B[1;32m      3\u001B[0m \u001B[0;31m#print(model_min(tf.convert_to_tensor(np.array(result).reshape((1,8192)))))\u001B[0m\u001B[0;34m\u001B[0m\u001B[0;34m\u001B[0m\u001B[0;34m\u001B[0m\u001B[0m\n\u001B[1;32m      4\u001B[0m \u001B[0mprint\u001B[0m\u001B[0;34m(\u001B[0m\u001B[0mmodel_min\u001B[0m\u001B[0;34m(\u001B[0m\u001B[0mtensor_min\u001B[0m\u001B[0;34m)\u001B[0m\u001B[0;34m)\u001B[0m\u001B[0;34m\u001B[0m\u001B[0;34m\u001B[0m\u001B[0m\n\u001B[1;32m      5\u001B[0m \u001B[0;34m\u001B[0m\u001B[0m\n",
      "\u001B[0;31mNameError\u001B[0m: name 'result' is not defined"
     ]
    }
   ],
   "source": [
    "tensor_min = tf.convert_to_tensor(np.array(result).reshape((1,72)))\n",
    "#tf.math.reduce_sum(model_min(tf.convert_to_tensor(np.array(result).reshape((1,81252)))))\n",
    "#print(model_min(tf.convert_to_tensor(np.array(result).reshape((1,81252)))))\n",
    "print(model_min(tensor_min))"
   ],
   "metadata": {
    "collapsed": false,
    "pycharm": {
     "name": "#%%\n"
    }
   }
  },
  {
   "cell_type": "code",
   "execution_count": 90,
   "outputs": [],
   "source": [
    "\n",
    "#new_model(tensor_min)"
   ],
   "metadata": {
    "collapsed": false,
    "pycharm": {
     "name": "#%%\n"
    }
   }
  },
  {
   "cell_type": "code",
   "execution_count": 58,
   "outputs": [],
   "source": [
    "## to do\n",
    "random_model = tf.keras.Sequential()\n",
    "random_model.add(model_ran)\n",
    "random_model.add(layers.Dense(1))\n",
    "random_model.compile()"
   ],
   "metadata": {
    "collapsed": false,
    "pycharm": {
     "name": "#%%\n"
    }
   }
  },
  {
   "cell_type": "code",
   "execution_count": 48,
   "outputs": [],
   "source": [
    " # helpers make forms look nice\n",
    "@fem.BilinearForm\n",
    "def a(u, v, _):\n",
    "   return dot(grad(u), grad(v))\n",
    "@fem.LinearForm\n",
    "def L(v, w):\n",
    "    x, y = w.x  # global coordinates\n",
    "    f =  np.sin(np.pi * x) * np.sin(np.pi * y)#/(2*np.pi) #theta(x)*theta(y)#\n",
    "    return f * v\n",
    "mesh = fem.MeshTri().refined(2)\n",
    "Vh = fem.Basis(mesh, fem.ElementTriP1())\n",
    "D = Vh.get_dofs()\n",
    "A = a.assemble(Vh)\n",
    "\n",
    "l = L.assemble(Vh)\n",
    "system = fem.condense(A, l, D=D)\n",
    "x = fem.solve(*system)"
   ],
   "metadata": {
    "collapsed": false,
    "pycharm": {
     "name": "#%%\n"
    }
   }
  },
  {
   "cell_type": "code",
   "execution_count": 12,
   "outputs": [
    {
     "name": "stdout",
     "output_type": "stream",
     "text": [
      "[0.         0.         0.         0.         0.         0.\n",
      " 0.04818322 0.         0.         0.         0.         0.\n",
      " 0.02445587 0.         0.         0.02445587 0.         0.\n",
      " 0.         0.02372734 0.03407068 0.03407068 0.03407068 0.03407068\n",
      " 0.02372734]\n"
     ]
    }
   ],
   "source": [
    "print(x)\n"
   ],
   "metadata": {
    "collapsed": false,
    "pycharm": {
     "name": "#%%\n"
    }
   }
  },
  {
   "cell_type": "code",
   "execution_count": 52,
   "outputs": [
    {
     "name": "stdout",
     "output_type": "stream",
     "text": [
      "         x       y    Values  Values_bound\n",
      "0   0.0000  0.0000  0.000000           1.0\n",
      "1   1.0000  0.0000  1.000000           1.0\n",
      "2   0.0000  1.0000  1.000000           1.0\n",
      "3   1.0000  1.0000  1.189207           1.0\n",
      "4   0.2500  0.0000  0.500000           1.0\n",
      "5   0.0000  0.2500  0.500000           1.0\n",
      "6   0.2500  0.2500  0.594604           1.0\n",
      "7   1.0000  0.2500  1.015272           1.0\n",
      "8   0.2500  1.0000  1.015272           1.0\n",
      "9   0.0625  0.0000  0.250000           1.0\n",
      "10  0.0000  0.0625  0.250000           1.0\n",
      "11  0.5625  0.0000  0.750000           1.0\n",
      "12  0.5625  0.0625  0.752304           1.0\n",
      "13  1.0000  0.0625  1.000975           1.0\n",
      "14  0.0000  0.5625  0.750000           1.0\n",
      "15  0.0625  0.5625  0.752304           1.0\n",
      "16  0.0625  1.0000  1.000975           1.0\n",
      "17  1.0000  0.5625  1.071143           1.0\n",
      "18  0.5625  1.0000  1.071143           1.0\n",
      "19  0.0625  0.0625  0.297302           1.0\n",
      "20  0.2500  0.0625  0.507636           1.0\n",
      "21  0.0625  0.2500  0.507636           1.0\n",
      "22  0.5625  0.2500  0.784572           1.0\n",
      "23  0.2500  0.5625  0.784572           1.0\n",
      "24  0.5625  0.5625  0.891905           1.0\n",
      "         x       y    Values  Values_bound\n",
      "0   0.0000  0.0000  0.000000           1.0\n",
      "1   1.0000  0.0000  1.000000           1.0\n",
      "2   0.0000  1.0000  1.000000           1.0\n",
      "3   1.0000  1.0000  1.189207           1.0\n",
      "4   0.2500  0.0000  0.500000           1.0\n",
      "5   0.0000  0.2500  0.500000           1.0\n",
      "6   0.2500  0.2500  0.594604           1.0\n",
      "7   1.0000  0.2500  1.015272           1.0\n",
      "8   0.2500  1.0000  1.015272           1.0\n",
      "9   0.0625  0.0000  0.250000           1.0\n",
      "10  0.0000  0.0625  0.250000           1.0\n",
      "11  0.5625  0.0000  0.750000           1.0\n",
      "12  0.5625  0.0625  0.752304           1.0\n",
      "13  1.0000  0.0625  1.000975           1.0\n",
      "14  0.0000  0.5625  0.750000           1.0\n",
      "15  0.0625  0.5625  0.752304           1.0\n",
      "16  0.0625  1.0000  1.000975           1.0\n",
      "17  1.0000  0.5625  1.071143           1.0\n",
      "18  0.5625  1.0000  1.071143           1.0\n",
      "19  0.0625  0.0625  0.297302           1.0\n",
      "20  0.2500  0.0625  0.507636           1.0\n",
      "21  0.0625  0.2500  0.507636           1.0\n",
      "22  0.5625  0.2500  0.784572           1.0\n",
      "23  0.2500  0.5625  0.784572           1.0\n",
      "24  0.5625  0.5625  0.891905           1.0\n"
     ]
    }
   ],
   "source": [
    "is_alpha = True\n",
    "\n",
    "def boundary(x,y):\n",
    "    return np.ones_like(x)*np.ones_like(y)#x*(1-x)*y*(1-y) #\n",
    "\n",
    "def x_alpha(x,y,alp=0.5):\n",
    "    return ((x**2+y**2)**0.5)**alp\n",
    "\n",
    "fem_points = np.array(mesh.p)\n",
    "fem_points = np.concatenate([fem_points.T,np.array(x)[:,None]],axis=1)\n",
    "df_fem = pd.DataFrame(fem_points)\n",
    "df_fem.columns = ['x','y','Values']\n",
    "# divide by x(x-1)*y(y-1)??\n",
    "# print(*zip(df_fem.x,df_fem.y))\n",
    "df_fem['Values_bound'] = [boundary(a,b)  for (a,b) in zip(df_fem.x,df_fem.y) ]\n",
    "if is_alpha:\n",
    "    df_fem['x'] = df_fem['x']**2\n",
    "    df_fem['y'] = df_fem['y']**2\n",
    "    df_fem['Values'] = x_alpha(df_fem['x'],df_fem['y'])\n",
    "    print(df_fem)\n",
    "else:\n",
    "    df_fem['Values'] = [a/b  if b!=0 else a for (a,b) in zip(df_fem['Values'],df_fem['Values_bound']) ]\n",
    "res_df = point_mesh #res\n",
    "res_df.columns=['x','y']\n",
    "new_df = pd.merge(res_df, df_fem,\n",
    "                  how='left', left_on=['x','y'], right_on = ['x','y'])\n",
    "print(new_df)"
   ],
   "metadata": {
    "collapsed": false,
    "pycharm": {
     "name": "#%%\n"
    }
   }
  },
  {
   "cell_type": "code",
   "execution_count": 14,
   "outputs": [],
   "source": [
    "def add_last_layer(model_add):\n",
    "\n",
    "    new_model = tf.keras.Sequential()\n",
    "    new_model.add(model_add)\n",
    "    new_model.add(layers.Dense(1))#,activation=lambda x: x\n",
    "    #new_model.add(Dropout(0.5))\n",
    "    #new_model.add(Dense(1,activation='sigmoid'))\n",
    "\n",
    "    new_model.compile()\n",
    "\n",
    "    new_model.layers[-1].set_weights([new_df['Values'].values.reshape(25,1),np.array([0])])\n",
    "    return new_model\n"
   ],
   "metadata": {
    "collapsed": false,
    "pycharm": {
     "name": "#%%\n"
    }
   }
  },
  {
   "cell_type": "code",
   "execution_count": 15,
   "outputs": [
    {
     "data": {
      "text/plain": "<AxesSubplot:>"
     },
     "execution_count": 15,
     "metadata": {},
     "output_type": "execute_result"
    },
    {
     "data": {
      "text/plain": "<Figure size 432x288 with 2 Axes>",
      "image/png": "[encoded data removed]"
     },
     "metadata": {
      "needs_background": "light"
     },
     "output_type": "display_data"
    }
   ],
   "source": [
    "from skfem.visuals.matplotlib import plot, savefig\n",
    "\n",
    "plot(mesh, x, shading='gouraud', colorbar=True)\n"
   ],
   "metadata": {
    "collapsed": false,
    "pycharm": {
     "name": "#%%\n"
    }
   }
  },
  {
   "cell_type": "code",
   "execution_count": 303,
   "outputs": [],
   "source": [
    "def plot_decision_boundary(model_plot, steps=20, cmap='Paired'):\n",
    "    fig = plt.figure()\n",
    "    ax = fig.add_subplot(projection='3d')\n",
    "    cmap = plt.get_cmap(cmap)\n",
    "    # steps = 1000\n",
    "    x_span = np.linspace(0, 1, steps)\n",
    "    print(len(x_span))\n",
    "    y_span = np.linspace(0, 1, steps)\n",
    "    xx, yy = np.meshgrid(x_span, y_span)\n",
    "    test = np.c_[xx.ravel(), yy.ravel(), np.ones(xx.ravel().shape[0])]\n",
    "    test_list = [multiply_init(ar) for ar in test]\n",
    "    print(test.shape,test_list)\n",
    "    func_values = model_plot.predict(test_list)\n",
    "    print(func_values.shape)\n",
    "    z = func_values.reshape(xx.shape)*boundary(xx,yy)\n",
    "    zz = np.sin(np.pi*xx)*np.sin(np.pi*yy)# *boundary\n",
    "    ax = fig.add_subplot(projection='3d')\n",
    "    ax.plot_surface(xx, yy, z, alpha=0.7)\n",
    "    #ax.contourf(xx, yy, z, alpha=0.7)\n",
    "    # contourf\n",
    "    plt.show()\n",
    "    #plot(mesh,func_values)\n",
    "    return fig, ax\n",
    "\n",
    "#plot_decision_boundary(random_model)\n",
    "#plot_decision_boundary(new_model)\n",
    "#plot_decision_boundary(new_model_full)"
   ],
   "metadata": {
    "collapsed": false,
    "pycharm": {
     "name": "#%%\n"
    }
   }
  },
  {
   "cell_type": "code",
   "execution_count": 70,
   "outputs": [
    {
     "name": "stdout",
     "output_type": "stream",
     "text": [
      "[(200, 300), (300, 100), (100, 150), (150, 50), (50, 75), (75, 25)]\n",
      "Model: \"sequential_9\"\n",
      "_________________________________________________________________\n",
      "Layer (type)                 Output Shape              Param #   \n",
      "=================================================================\n",
      "model_10 (Functional)        (None, 25)                118825    \n",
      "_________________________________________________________________\n",
      "dense_84 (Dense)             (None, 1)                 26        \n",
      "=================================================================\n",
      "Total params: 118,851\n",
      "Trainable params: 118,851\n",
      "Non-trainable params: 0\n",
      "_________________________________________________________________\n"
     ]
    }
   ],
   "source": [
    "new_model = set_up_min_full()\n",
    "#random_model = shape_to_random_model()\n",
    "new_model.summary()"
   ],
   "metadata": {
    "collapsed": false,
    "pycharm": {
     "name": "#%%\n"
    }
   }
  },
  {
   "cell_type": "code",
   "execution_count": 43,
   "outputs": [
    {
     "ename": "NameError",
     "evalue": "name 'new_model' is not defined",
     "output_type": "error",
     "traceback": [
      "\u001B[0;31m---------------------------------------------------------------------------\u001B[0m",
      "\u001B[0;31mNameError\u001B[0m                                 Traceback (most recent call last)",
      "\u001B[0;32m<ipython-input-43-47a306b72899>\u001B[0m in \u001B[0;36m<module>\u001B[0;34m\u001B[0m\n\u001B[1;32m     37\u001B[0m             )\n\u001B[1;32m     38\u001B[0m             \u001B[0mprint\u001B[0m\u001B[0;34m(\u001B[0m\u001B[0;34m\"reduced loss:\"\u001B[0m\u001B[0;34m,\u001B[0m \u001B[0mfloat\u001B[0m\u001B[0;34m(\u001B[0m\u001B[0mloss_direct\u001B[0m\u001B[0;34m)\u001B[0m\u001B[0;34m)\u001B[0m\u001B[0;34m\u001B[0m\u001B[0;34m\u001B[0m\u001B[0m\n\u001B[0;32m---> 39\u001B[0;31m \u001B[0mtrain_model\u001B[0m\u001B[0;34m(\u001B[0m\u001B[0mnew_model\u001B[0m\u001B[0;34m,\u001B[0m\u001B[0mtrain_steps\u001B[0m\u001B[0;34m=\u001B[0m\u001B[0;36m4000\u001B[0m\u001B[0;34m)\u001B[0m\u001B[0;34m\u001B[0m\u001B[0;34m\u001B[0m\u001B[0m\n\u001B[0m\u001B[1;32m     40\u001B[0m \u001B[0;34m\u001B[0m\u001B[0m\n",
      "\u001B[0;31mNameError\u001B[0m: name 'new_model' is not defined"
     ]
    }
   ],
   "source": [
    "def train_model(model_train, N=20,train_steps=1500):\n",
    "    x_len = np.linspace(0,1,N).reshape((N,1))\n",
    "    xx, yy = np.meshgrid(x_len, x_len)\n",
    "    z = np.sin(np.pi*xx)*np.sin(np.pi*yy)\n",
    "    x_tensor = tf.convert_to_tensor(np.c_[xx.ravel(), yy.ravel()], dtype=tf.float64)\n",
    "    for step in range(0,train_steps):\n",
    "\n",
    "        with tf.GradientTape(persistent=True) as tape:\n",
    "            tape.watch(x_tensor)\n",
    "            ones = tf.convert_to_tensor(np.ones((x_tensor.shape[0],1)),dtype=tf.float64)\n",
    "            test = tf.concat([x_tensor, ones],axis=1)\n",
    "            vector_res = stacked_tf@tf.transpose(test)\n",
    "            vector_res = tf.transpose(vector_res)\n",
    "            tape.watch(vector_res)\n",
    "            tape.watch(test)\n",
    "            #break\n",
    "            bounds = tf.reshape(tf.cast(boundary(x_tensor[:,0],x_tensor[:,1]), dtype=tf.float32), (x_tensor.shape[0],1))\n",
    "            #print(bounds.shape)\n",
    "            output = model_train(vector_res, training=True)*bounds\n",
    "            z = tf.reshape(z, [-1])\n",
    "            output = tf.cast(output,dtype=tf.float64)\n",
    "            y_x = tape.gradient(output,x_tensor)\n",
    "            loss = (tf.reduce_mean(input_tensor=(\n",
    "                0.5*tf.reduce_sum(y_x, axis=1)**2 -  tf.multiply( z,output))\n",
    "                ) )\n",
    "            loss_direct = loss #/ tf.reduce_sum(tf.square(output))\n",
    "            if step == 0:\n",
    "                print(float(loss_direct))\n",
    "        optimizer = tf.keras.optimizers.Adam(learning_rate=0.00018)\n",
    "        grads_d = tape.gradient(loss_direct, model_train.trainable_weights)\n",
    "        optimizer.apply_gradients((grad,var) for (grad,var) in  zip(grads_d, model_train.trainable_weights)\n",
    "                                  if True) # grad is not None\n",
    "        if step % 50 == 0:\n",
    "            print(\n",
    "                \"Training loss at step:\",\n",
    "                step, float(loss)\n",
    "            )\n",
    "            print(\"reduced loss:\", float(loss_direct))\n",
    "train_model(new_model,train_steps=4000)"
   ],
   "metadata": {
    "collapsed": false,
    "pycharm": {
     "name": "#%%\n"
    }
   }
  },
  {
   "cell_type": "code",
   "execution_count": 59,
   "outputs": [
    {
     "name": "stdout",
     "output_type": "stream",
     "text": [
      "[(200, 300), (300, 100), (100, 150), (150, 50), (50, 75), (75, 25)]\n",
      "Model: \"sequential_4\"\n",
      "_________________________________________________________________\n",
      "Layer (type)                 Output Shape              Param #   \n",
      "=================================================================\n",
      "model_4 (Functional)         (None, 25)                119625    \n",
      "_________________________________________________________________\n",
      "dense_39 (Dense)             (None, 1)                 26        \n",
      "=================================================================\n",
      "Total params: 119,651\n",
      "Trainable params: 26\n",
      "Non-trainable params: 119,625\n",
      "_________________________________________________________________\n"
     ]
    }
   ],
   "source": [
    "\n",
    "new_model_full = shape_to_model_glob_lin(train=False)\n",
    "#random_full = random_to_model_glob_lin()\n",
    "\n",
    "#random_model = set_up_random_full()\n",
    "new_model_full.summary()"
   ],
   "metadata": {
    "collapsed": false,
    "pycharm": {
     "name": "#%%\n"
    }
   }
  },
  {
   "cell_type": "code",
   "execution_count": 70,
   "outputs": [
    {
     "name": "stdout",
     "output_type": "stream",
     "text": [
      "50\n",
      "0.2859662918746725\n"
     ]
    },
    {
     "data": {
      "text/plain": "<Figure size 2160x576 with 1 Axes>",
      "image/png": "[encoded data removed]"
     },
     "metadata": {
      "needs_background": "light"
     },
     "output_type": "display_data"
    },
    {
     "data": {
      "text/plain": "(<Figure size 2160x576 with 1 Axes>, <Axes3DSubplot:>)"
     },
     "execution_count": 70,
     "metadata": {},
     "output_type": "execute_result"
    },
    {
     "data": {
      "text/plain": "<Figure size 432x288 with 0 Axes>"
     },
     "metadata": {},
     "output_type": "display_data"
    }
   ],
   "source": [
    "def plot_decision_boundary_full(model_plot, steps=50, cmap='Paired'):\n",
    "    fig = plt.figure(figsize=(30,8))\n",
    "    ax = fig.add_subplot(projection='3d')#\n",
    "    x_span = np.linspace(0, 1, steps)\n",
    "    print(len(x_span))\n",
    "    y_span = np.linspace(0, 1, steps)\n",
    "    xx, yy = np.meshgrid(x_span, y_span)\n",
    "    test = np.c_[xx.ravel(), yy.ravel(), np.ones(xx.ravel().shape[0])]\n",
    "    func_values = model_plot.predict(test)\n",
    "    z = func_values.reshape(xx.shape)*boundary(xx,yy)\n",
    "    zz = x_alpha(xx,yy)#np.sin(np.pi*xx)*np.sin(np.pi*yy)/(2*np.pi**2)# *boundary\n",
    "    #ax = fig.add_subplot(projection='3d')\n",
    "    #ax.contourf(xx, yy, z-zz, alpha=0.7,cmap='autumn_r') #plt.cm.rainbow\n",
    "    ax.plot_surface(xx,yy,z)\n",
    "    print(np.sum((z-zz)**2)**0.5)\n",
    "    #PCM=ax.get_children()[2]\n",
    "    #plt.colorbar(PCM,ax=ax)\n",
    "    #plt.imshow\n",
    "    plt.show()\n",
    "    plt.savefig('figures/2d_fullmodel_fulltrained_1000.png')\n",
    "    return fig, ax\n",
    "\n",
    "plot_decision_boundary_full(new_model_full)"
   ],
   "metadata": {
    "collapsed": false,
    "pycharm": {
     "name": "#%%\n"
    }
   }
  },
  {
   "cell_type": "code",
   "execution_count": 60,
   "outputs": [
    {
     "name": "stdout",
     "output_type": "stream",
     "text": [
      "True L2 loss at step: 0 4.469792572031259\n",
      "True L2 loss at step: 10 3.4485593719362613\n",
      "True L2 loss at step: 20 2.7868909610775345\n",
      "True L2 loss at step: 30 2.460398946618561\n",
      "True L2 loss at step: 40 2.2761468221766137\n",
      "True L2 loss at step: 50 2.147339619304105\n",
      "True L2 loss at step: 60 2.0649225816390637\n",
      "True L2 loss at step: 70 2.012605786648469\n",
      "True L2 loss at step: 80 1.9842663214264542\n",
      "True L2 loss at step: 90 1.967437480998555\n",
      "True L2 loss at step: 100 1.9567872375486193\n",
      "True L2 loss at step: 110 1.9490638601494532\n",
      "True L2 loss at step: 120 1.9434766587054138\n",
      "True L2 loss at step: 130 1.9402405669047864\n",
      "True L2 loss at step: 140 1.9377268049062262\n",
      "True L2 loss at step: 150 1.9352301051491887\n",
      "True L2 loss at step: 160 1.9328083825652187\n",
      "True L2 loss at step: 170 1.9304083159447036\n",
      "True L2 loss at step: 180 1.9280805549550006\n",
      "True L2 loss at step: 190 1.925777732421543\n",
      "True L2 loss at step: 200 1.9235440468113283\n",
      "True L2 loss at step: 210 1.9213618836876631\n",
      "True L2 loss at step: 220 1.9192168103743468\n",
      "True L2 loss at step: 230 1.9171017331927729\n",
      "True L2 loss at step: 240 1.9150555868290082\n",
      "True L2 loss at step: 250 1.91306145787255\n",
      "True L2 loss at step: 260 1.911085953543761\n",
      "True L2 loss at step: 270 1.9091859096999078\n",
      "True L2 loss at step: 280 1.9073073798097684\n",
      "True L2 loss at step: 290 1.9055013990532121\n",
      "True L2 loss at step: 300 1.9037196444929088\n",
      "True L2 loss at step: 310 1.9020077315003578\n",
      "True L2 loss at step: 320 1.9003229455350215\n",
      "True L2 loss at step: 330 1.8987051523736929\n",
      "True L2 loss at step: 340 1.8971388233900015\n",
      "True L2 loss at step: 350 1.8955933571238874\n",
      "True L2 loss at step: 360 1.8941211808778478\n",
      "True L2 loss at step: 370 1.8926724622782762\n",
      "True L2 loss at step: 380 1.8912943125739836\n",
      "True L2 loss at step: 390 1.8899420663481412\n",
      "True L2 loss at step: 400 1.8883671569652618\n",
      "True L2 loss at step: 410 1.8871257557987493\n",
      "True L2 loss at step: 420 1.8859359473856823\n",
      "True L2 loss at step: 430 1.8847660171158482\n",
      "True L2 loss at step: 440 1.883670272264637\n",
      "True L2 loss at step: 450 1.8825970445758466\n",
      "True L2 loss at step: 460 1.8815953280988196\n",
      "True L2 loss at step: 470 1.8806319901197486\n",
      "True L2 loss at step: 480 1.879724408296294\n",
      "True L2 loss at step: 490 1.8788384916991994\n",
      "True L2 loss at step: 500 1.87802498900753\n",
      "True L2 loss at step: 510 1.8772547269080715\n",
      "True L2 loss at step: 520 1.8765352706964196\n",
      "True L2 loss at step: 530 1.8758376125957694\n",
      "True L2 loss at step: 540 1.8752122972052665\n",
      "True L2 loss at step: 550 1.8746113410650493\n",
      "True L2 loss at step: 560 1.8740800738029821\n",
      "True L2 loss at step: 570 1.8735761611854962\n",
      "True L2 loss at step: 580 1.873139029021865\n",
      "True L2 loss at step: 590 1.8727534764667468\n",
      "True L2 loss at step: 600 1.8723886656636552\n",
      "True L2 loss at step: 610 1.8720971679549585\n",
      "True L2 loss at step: 620 1.8718424162400813\n",
      "True L2 loss at step: 630 1.8716450159856106\n",
      "True L2 loss at step: 640 1.8714674994544525\n",
      "True L2 loss at step: 650 1.8713642075127686\n",
      "True L2 loss at step: 660 1.8712834345825198\n",
      "True L2 loss at step: 670 1.871271924419861\n",
      "True L2 loss at step: 680 1.871271917029526\n",
      "True L2 loss at step: 690 1.8712718935096362\n",
      "True L2 loss at step: 700 1.8712719025577353\n",
      "True L2 loss at step: 710 1.8712718759212335\n",
      "True L2 loss at step: 720 1.8712718800569381\n",
      "True L2 loss at step: 730 1.8712718666684895\n",
      "True L2 loss at step: 740 1.8712718409385074\n",
      "True L2 loss at step: 750 1.8712718362396452\n",
      "True L2 loss at step: 760 1.871271848345365\n",
      "True L2 loss at step: 770 1.8712718514807074\n",
      "True L2 loss at step: 780 1.8712718378355082\n",
      "True L2 loss at step: 790 1.8712718022421466\n",
      "True L2 loss at step: 800 1.8712718145303335\n",
      "True L2 loss at step: 810 1.8712717942806316\n",
      "True L2 loss at step: 820 1.8712717989754353\n",
      "True L2 loss at step: 830 1.8712717946087079\n",
      "True L2 loss at step: 840 1.8712717876601581\n",
      "True L2 loss at step: 850 1.8712717702223998\n",
      "True L2 loss at step: 860 1.8712717649097659\n",
      "True L2 loss at step: 870 1.8712717492316284\n",
      "True L2 loss at step: 880 1.871271729903079\n",
      "True L2 loss at step: 890 1.871271725763725\n",
      "True L2 loss at step: 900 1.8712717251650428\n",
      "True L2 loss at step: 910 1.8712717098815195\n",
      "True L2 loss at step: 920 1.8712717134875057\n",
      "True L2 loss at step: 930 1.8712717097999323\n",
      "True L2 loss at step: 940 1.8712716808859708\n",
      "True L2 loss at step: 950 1.871271667271328\n",
      "True L2 loss at step: 960 1.8712716844385129\n",
      "True L2 loss at step: 970 1.8712716605901938\n",
      "True L2 loss at step: 980 1.8712716627615533\n",
      "True L2 loss at step: 990 1.871271630048149\n",
      "True L2 loss at step: 1000 1.8712716352218774\n",
      "True L2 loss at step: 1010 1.8712716199233532\n",
      "True L2 loss at step: 1020 1.8712715913552982\n",
      "True L2 loss at step: 1030 1.8712716055977254\n",
      "True L2 loss at step: 1040 1.8712716226477781\n",
      "True L2 loss at step: 1050 1.8712716252900778\n",
      "True L2 loss at step: 1060 1.871271596803492\n",
      "True L2 loss at step: 1070 1.8712715930819108\n",
      "True L2 loss at step: 1080 1.8712715747059891\n",
      "True L2 loss at step: 1090 1.871271559814501\n",
      "True L2 loss at step: 1100 1.8712715419044246\n",
      "True L2 loss at step: 1110 1.8712715354892464\n",
      "True L2 loss at step: 1120 1.8712715427538975\n",
      "True L2 loss at step: 1130 1.8712715382450176\n",
      "True L2 loss at step: 1140 1.871271525726879\n",
      "True L2 loss at step: 1150 1.8712715013242565\n",
      "True L2 loss at step: 1160 1.8712715178506079\n",
      "True L2 loss at step: 1170 1.8712714933427508\n",
      "True L2 loss at step: 1180 1.8712714812630482\n",
      "True L2 loss at step: 1190 1.871271485172205\n",
      "True L2 loss at step: 1200 1.87127146281232\n",
      "True L2 loss at step: 1210 1.8712714593760875\n",
      "True L2 loss at step: 1220 1.8712714585610923\n",
      "True L2 loss at step: 1230 1.8712714526678447\n",
      "True L2 loss at step: 1240 1.8712714566756148\n",
      "True L2 loss at step: 1250 1.8712714265279204\n",
      "True L2 loss at step: 1260 1.8712714100807037\n",
      "True L2 loss at step: 1270 1.8712713905700478\n",
      "True L2 loss at step: 1280 1.8712713702977832\n",
      "True L2 loss at step: 1290 1.8712713716315166\n",
      "True L2 loss at step: 1300 1.8712713739435405\n",
      "True L2 loss at step: 1310 1.8712713564702774\n",
      "True L2 loss at step: 1320 1.871271352821689\n",
      "True L2 loss at step: 1330 1.8712713624183865\n",
      "True L2 loss at step: 1340 1.8712713260060254\n",
      "True L2 loss at step: 1350 1.8712713277639368\n",
      "True L2 loss at step: 1360 1.871271340429909\n",
      "True L2 loss at step: 1370 1.8712713279051227\n",
      "True L2 loss at step: 1380 1.8712712931689877\n",
      "True L2 loss at step: 1390 1.8712713121020226\n",
      "True L2 loss at step: 1400 1.8712712933341815\n",
      "True L2 loss at step: 1410 1.8712712732128436\n",
      "True L2 loss at step: 1420 1.871271269885912\n",
      "True L2 loss at step: 1430 1.8712712570599592\n",
      "True L2 loss at step: 1440 1.871271250921159\n",
      "True L2 loss at step: 1450 1.8712712395563225\n",
      "True L2 loss at step: 1460 1.8712712484608152\n",
      "True L2 loss at step: 1470 1.8712712011448456\n",
      "True L2 loss at step: 1480 1.8712712034867853\n",
      "True L2 loss at step: 1490 1.8712712241063563\n",
      "True L2 loss at step: 1500 1.8712712330503067\n",
      "True L2 loss at step: 1510 1.8712712153681217\n",
      "True L2 loss at step: 1520 1.8712711949268188\n",
      "True L2 loss at step: 1530 1.8712711887147297\n",
      "True L2 loss at step: 1540 1.871271188470483\n",
      "True L2 loss at step: 1550 1.8712711771878752\n",
      "True L2 loss at step: 1560 1.8712711711107093\n",
      "True L2 loss at step: 1570 1.8712711642515023\n",
      "True L2 loss at step: 1580 1.8712711649829727\n",
      "True L2 loss at step: 1590 1.8712711330661977\n",
      "True L2 loss at step: 1600 1.8712711316031685\n",
      "True L2 loss at step: 1610 1.8712711271209734\n",
      "True L2 loss at step: 1620 1.871271095130767\n",
      "True L2 loss at step: 1630 1.8712710808021318\n",
      "True L2 loss at step: 1640 1.8712710905388938\n",
      "True L2 loss at step: 1650 1.8712710568142727\n",
      "True L2 loss at step: 1660 1.8712710406738577\n",
      "True L2 loss at step: 1670 1.8712710693451533\n",
      "True L2 loss at step: 1680 1.8712710780293575\n",
      "True L2 loss at step: 1690 1.871271066410614\n",
      "True L2 loss at step: 1700 1.8712710423096235\n",
      "True L2 loss at step: 1710 1.8712710509216934\n",
      "True L2 loss at step: 1720 1.8712710151195564\n",
      "True L2 loss at step: 1730 1.8712710129036805\n",
      "True L2 loss at step: 1740 1.87127102274055\n",
      "True L2 loss at step: 1750 1.8712709908463774\n",
      "True L2 loss at step: 1760 1.8712710012830067\n",
      "True L2 loss at step: 1770 1.8712709797885276\n",
      "True L2 loss at step: 1780 1.8712709855247889\n",
      "True L2 loss at step: 1790 1.8712709753494363\n",
      "True L2 loss at step: 1800 1.8712709732199382\n",
      "True L2 loss at step: 1810 1.871270963182222\n",
      "True L2 loss at step: 1820 1.871270943441726\n",
      "True L2 loss at step: 1830 1.8712710056522146\n",
      "True L2 loss at step: 1840 1.8712710008475208\n",
      "True L2 loss at step: 1850 1.8712709914994934\n",
      "True L2 loss at step: 1860 1.8712709644047136\n",
      "True L2 loss at step: 1870 1.8712709604669324\n",
      "True L2 loss at step: 1880 1.8712709732626336\n",
      "True L2 loss at step: 1890 1.8712709449591953\n",
      "True L2 loss at step: 1900 1.8712709566559311\n",
      "True L2 loss at step: 1910 1.871270929973141\n",
      "True L2 loss at step: 1920 1.8712708768177482\n",
      "True L2 loss at step: 1930 1.8712708595067205\n",
      "True L2 loss at step: 1940 1.8712708583832565\n",
      "True L2 loss at step: 1950 1.8712708685337889\n",
      "True L2 loss at step: 1960 1.8712708494208128\n",
      "True L2 loss at step: 1970 1.8712708517890655\n",
      "True L2 loss at step: 1980 1.8712708418703174\n",
      "True L2 loss at step: 1990 1.87127084292647\n"
     ]
    }
   ],
   "source": [
    "\n",
    "def train_model_full(model_train, N=250,train_steps=1500):\n",
    "    xerr = []\n",
    "    yerr = []\n",
    "    x_len = np.linspace(0,1,N).reshape((N,1))\n",
    "    xx, yy = np.meshgrid(x_len, x_len)\n",
    "    z_approx = x_alpha(xx,yy)\n",
    "\n",
    "    z = np.sin(np.pi*xx)*np.sin(np.pi*yy)#/(2*np.pi) #np.array(theta(xx)*theta(yy),dtype=float)#\n",
    "    z_shape = z.shape\n",
    "    Num = z.size\n",
    "    x_tensor = tf.convert_to_tensor(np.c_[xx.ravel(), yy.ravel()], dtype=tf.float64)\n",
    "    for step in range(0,train_steps):\n",
    "\n",
    "        with tf.GradientTape(persistent=True) as tape:\n",
    "            tape.watch(x_tensor)\n",
    "            ones = tf.convert_to_tensor(np.ones((x_tensor.shape[0],1)),dtype=tf.float64)\n",
    "            test = tf.concat([x_tensor, ones],axis=1)\n",
    "            tape.watch(test)\n",
    "            bounds = tf.reshape(tf.cast(boundary(x_tensor[:,0],x_tensor[:,1]), dtype=tf.float32), (x_tensor.shape[0],1))\n",
    "            output = model_train(test, training=True)*bounds\n",
    "            tape.watch(bounds)\n",
    "            z = tf.reshape(z, [-1])\n",
    "            output = tf.cast(output,dtype=tf.float64)\n",
    "            if is_alpha:\n",
    "                z_approx = tf.reshape(z_approx, output.shape)\n",
    "                loss = tf.reduce_sum((output-z_approx)**2)\n",
    "            else:\n",
    "                bord = tf.reshape(output, z_shape)\n",
    "                #print(bord.shape)\n",
    "                #print(bord[0,:],bord[-1,:],bord[:,0],bord[:,-1])\n",
    "                bound_val = bord[0,:]**2+bord[-1,:]**2 + bord[:,0]**2+ bord[:,-1]**2\n",
    "                #bound_val = tf.reduce_sum\n",
    "                # print(bound_val)\n",
    "                # break\n",
    "                y_x = tape.gradient(output,x_tensor)\n",
    "                en = tf.reshape(0.5*tf.reduce_sum(y_x**2, axis=1),shape=(Num,1))\n",
    "                z = tf.reshape(z,shape=(Num,1))\n",
    "                output = tf.reshape(output,shape=(Num,1))\n",
    "                pot = tf.multiply(z,output)\n",
    "                # the bare energy loss\n",
    "                #loss = (tf.reduce_mean(input_tensor=(en-pot)))\n",
    "                # with boundary conditions as loss\n",
    "                #loss = loss + 2.0*output[0]**2 + 2.0*output[-1]**2\n",
    "                # TODO boundary\n",
    "                loss = (tf.reduce_mean(input_tensor =  en -pot  + bound_val   ))\n",
    "                #print(loss)\n",
    "            #print(loss)\n",
    "            #break\n",
    "        optimizer = tf.keras.optimizers.Adam(learning_rate=1e-4)\n",
    "        grads_d = tape.gradient(loss, model_train.trainable_weights)\n",
    "        optimizer.apply_gradients((grad,var) for (grad,var) in  zip(grads_d, model_train.trainable_weights)\n",
    "                                  if True) # grad is not None\n",
    "        if step % 10 == 0:\n",
    "            print(\n",
    "                \"True L2 loss at step:\",\n",
    "                step, float(loss)\n",
    "            )\n",
    "        xerr.append(step)\n",
    "        yerr.append(loss)\n",
    "    return xerr,yerr\n",
    "\n",
    "x_err_2,y_err_2 = train_model_full(new_model_full,train_steps=2000) #500?"
   ],
   "metadata": {
    "collapsed": false,
    "pycharm": {
     "name": "#%%\n"
    }
   }
  },
  {
   "cell_type": "code",
   "execution_count": 69,
   "outputs": [
    {
     "data": {
      "text/plain": "<Figure size 1440x576 with 1 Axes>",
      "image/png": "[encoded data removed]"
     },
     "metadata": {
      "needs_background": "light"
     },
     "output_type": "display_data"
    }
   ],
   "source": [
    "fig = plt.figure(figsize=(20,8))\n",
    "plt.plot(x_err_1,y_err_1,label='uniform spacing')\n",
    "plt.plot(x_err_2,y_err_2,label='exponential spacing')\n",
    "plt.xlim(-1,1200)\n",
    "#1928\n",
    "plt.legend(fontsize=25)\n",
    "plt.xlabel('iterations',fontsize=25)\n",
    "plt.ylabel('MAE',fontsize=25)\n",
    "plt.savefig('figures/xalpha_2d_full_error.png')"
   ],
   "metadata": {
    "collapsed": false,
    "pycharm": {
     "name": "#%%\n"
    }
   }
  },
  {
   "cell_type": "code",
   "execution_count": null,
   "outputs": [],
   "source": [
    "#make as function\n",
    "N=20\n",
    "#model.load_weights('checkpoints/lap_energy.h5')\n",
    "#model = tf.keras.models.load_model('checkpoints/lap_variational_almost.h5')\n",
    "x_len = np.linspace(0,1,N).reshape((N,1))\n",
    "#x_grid = np.meshgrid(x_len,x_len)\n",
    "xx, yy = np.meshgrid(x_len, x_len)\n",
    "z = np.sin(np.pi*xx)*np.sin(np.pi*yy)\n",
    "x_tensor = tf.convert_to_tensor(np.c_[xx.ravel(), yy.ravel()], dtype=tf.float64)\n",
    "start = 1\n",
    "\n",
    "for step in range(0,2500):\n",
    "\n",
    "# Open a GradientTape to record the operations run\n",
    "# during the forward pass, which enables auto-differentiation.\n",
    "    with tf.GradientTape(persistent=True) as tape:\n",
    "        tape.watch(x_tensor)\n",
    "        # Create tensor that you will watch\n",
    "        #test = np.c_[xx.ravel(), yy.ravel(), np.ones(xx.ravel().shape[0])]\n",
    "        ones = tf.convert_to_tensor(np.ones((x_tensor.shape[0],1)),dtype=tf.float64)\n",
    "        #print(ones.shape, x_tensor.shape)\n",
    "        test = tf.concat([x_tensor, ones],axis=1)\n",
    "        #print(test.shape)\n",
    "        #break\n",
    "        #test = tf.convert_to_tensor(test)\n",
    "        vector_res = stacked_tf@tf.transpose(test)\n",
    "        vector_res = tf.transpose(vector_res)\n",
    "        tape.watch(vector_res)\n",
    "        tape.watch(test)\n",
    "        #break\n",
    "        bounds = tf.reshape(tf.cast(boundary(x_tensor[:,0],x_tensor[:,1]), dtype=tf.float32), (x_tensor.shape[0],1))\n",
    "        #print(bounds.shape)\n",
    "        output = random_model(vector_res, training=True)*bounds\n",
    "        #fig = plt.figure()\n",
    "        #ax = fig.add_subplot(projection='3d')\n",
    "        #ax.plot_surface(xx, yy, np.array(bounds).reshape((20,20)), alpha=0.7)\n",
    "        #plt.show()\n",
    "        #break\n",
    "        z = tf.reshape(z, [-1])\n",
    "        output = tf.cast(output,dtype=tf.float64)\n",
    "        #break\n",
    "        y_x = tape.gradient(output,x_tensor)\n",
    "        #print(output.dtype,z.dtype)\n",
    "        if y_x == None:\n",
    "            print('None!')\n",
    "            print(output.shape)\n",
    "            # reduce sum after reduce mean?\n",
    "        loss = (tf.reduce_mean(input_tensor=(\n",
    "            tf.square(\n",
    "            0.5*tf.reduce_sum(y_x, axis=1)**2 -  tf.multiply( z,output)))\n",
    "            ) )\n",
    "        loss_direct = loss / tf.reduce_mean(tf.square(output)+1e-16)\n",
    "        if step == 0:\n",
    "            print(float(loss_direct))\n",
    "    optimizer = tf.keras.optimizers.Adam(learning_rate=0.00065)\n",
    "    #print('strasight train')\n",
    "    grads_d = tape.gradient(loss_direct, random_model.trainable_weights)\n",
    "    # Run one step of gradient descent by updating\n",
    "    # the value of the variables to minimize the loss.\n",
    "    optimizer.apply_gradients((grad,var) for (grad,var) in  zip(grads_d, random_model.trainable_weights)\n",
    "                              if True) # grad is not None\n",
    "\n",
    "    best_loss = 100\n",
    "    # Log every 200 batches\n",
    "    if step % 50 == 0:\n",
    "        print(\n",
    "            \"Training loss at step:\",\n",
    "            step, float(loss)\n",
    "        )"
   ],
   "metadata": {
    "collapsed": false,
    "pycharm": {
     "name": "#%%\n"
    }
   }
  },
  {
   "cell_type": "code",
   "execution_count": 159,
   "outputs": [
    {
     "name": "stdout",
     "output_type": "stream",
     "text": [
      "[array([[ 0., -2., -2., -2., -2., -2.,  0., -2., -2.,  0., -2., -2., -2.,\n",
      "        -2., -2.,  0., -2., -2., -2., -2., -2., -2., -2., -2.,  2.,  0.,\n",
      "        -2., -2., -2., -2.,  2.,  0.,  2.,  0.,  2., -2.,  0., -2.,  2.,\n",
      "         0.,  2.,  0., -2., -2., -2., -2.,  2.,  0.,  2.,  2.,  2.,  2.,\n",
      "         2.,  2.,  2.,  2.,  2.,  0.,  2.,  2.,  2.,  2.,  2.,  0.,  2.,\n",
      "         0.,  0.,  0.,  0.,  0.,  2.,  0.],\n",
      "       [-2.,  0.,  0.,  0.,  0.,  0., -2.,  0.,  2., -2.,  0.,  0.,  0.,\n",
      "         0.,  2., -2.,  2.,  2.,  2.,  2.,  2.,  2.,  2.,  2., -2., -2.,\n",
      "         0.,  0.,  0.,  0., -2., -2.,  0.,  2., -2.,  2., -2.,  0.,  0.,\n",
      "         2.,  0.,  2.,  2.,  2.,  2.,  2.,  0.,  2., -2., -2., -2., -2.,\n",
      "        -2., -2., -2., -2.,  0.,  2., -2., -2., -2., -2.,  0.,  2.,  0.,\n",
      "         2.,  2.,  2.,  2.,  2.,  0.,  2.],\n",
      "       [ 1.,  1.,  1.,  1.,  1.,  1.,  1.,  1.,  0.,  2.,  1.,  1.,  1.,\n",
      "         1.,  0.,  2., -1., -1., -1., -1., -1., -1., -1., -1.,  0.,  1.,\n",
      "         2.,  2.,  2.,  2.,  0.,  1.,  0.,  0.,  1.,  1.,  2.,  2.,  0.,\n",
      "         0.,  0., -1.,  0.,  0.,  0.,  0.,  0., -1., -1., -1., -1., -1.,\n",
      "        -1., -1., -1., -1., -1.,  0.,  0.,  0.,  0.,  0., -1.,  0., -1.,\n",
      "        -1., -1., -1., -1., -1., -1., -1.]], dtype=float32), array([0., 0., 0., 0., 0., 0., 0., 0., 0., 0., 0., 0., 0., 0., 0., 0., 0.,\n",
      "       0., 0., 0., 0., 0., 0., 0., 0., 0., 0., 0., 0., 0., 0., 0., 0., 0.,\n",
      "       0., 0., 0., 0., 0., 0., 0., 0., 0., 0., 0., 0., 0., 0., 0., 0., 0.,\n",
      "       0., 0., 0., 0., 0., 0., 0., 0., 0., 0., 0., 0., 0., 0., 0., 0., 0.,\n",
      "       0., 0., 0., 0.], dtype=float32), array([[-1.,  0.,  0., ...,  0.,  0.,  0.],\n",
      "       [ 1., -1.,  1., ...,  0.,  0.,  0.],\n",
      "       [ 0.,  0.,  0., ...,  0.,  0.,  0.],\n",
      "       ...,\n",
      "       [ 0.,  0.,  0., ...,  0.,  0.,  0.],\n",
      "       [ 0.,  0.,  0., ..., -1.,  0.,  0.],\n",
      "       [ 0.,  0.,  0., ...,  1., -1.,  1.]], dtype=float32), array([0., 0., 0., 0., 0., 0., 0., 0., 0., 0., 0., 0., 0., 0., 0., 0., 0.,\n",
      "       0., 0., 0., 0., 0., 0., 0., 0., 0., 0., 0., 0., 0., 0., 0., 0., 0.,\n",
      "       0., 0., 0., 0., 0., 0., 0., 0., 0., 0., 0., 0., 0., 0., 0., 0., 0.,\n",
      "       0., 0., 0., 0., 0., 0., 0., 0., 0., 0., 0., 0., 0., 0., 0., 0., 0.,\n",
      "       0., 0., 0., 0., 0., 0., 0., 0., 0., 0., 0., 0., 0., 0., 0., 0., 0.,\n",
      "       0., 0., 0., 0., 0., 0., 0., 0., 0., 0., 0., 0., 0., 0., 0., 0., 0.,\n",
      "       0., 0., 0., 0., 0., 0.], dtype=float32), array([[-1.,  0.,  0., ...,  0.,  0.,  0.],\n",
      "       [-1.,  0.,  0., ...,  0.,  0.,  0.],\n",
      "       [ 1.,  0.,  0., ...,  0.,  0.,  0.],\n",
      "       ...,\n",
      "       [ 0.,  0.,  0., ...,  0.,  0., -1.],\n",
      "       [ 0.,  0.,  0., ...,  0.,  0., -1.],\n",
      "       [ 0.,  0.,  0., ...,  0.,  0.,  1.]], dtype=float32), array([0., 0., 0., 0., 0., 0., 0., 0., 0., 0., 0., 0., 0., 0., 0., 0., 0.,\n",
      "       0., 0., 0., 0., 0., 0., 0., 0., 0., 0., 0., 0., 0., 0., 0., 0., 0.,\n",
      "       0., 0.], dtype=float32), array([[-1.,  0.,  0., ...,  0.,  0.,  0.],\n",
      "       [ 1., -1.,  1., ...,  0.,  0.,  0.],\n",
      "       [ 0.,  0.,  0., ...,  0.,  0.,  0.],\n",
      "       ...,\n",
      "       [ 0.,  0.,  0., ...,  0.,  0.,  0.],\n",
      "       [ 0.,  0.,  0., ..., -1.,  0.,  0.],\n",
      "       [ 0.,  0.,  0., ...,  1., -1.,  1.]], dtype=float32), array([0., 0., 0., 0., 0., 0., 0., 0., 0., 0., 0., 0., 0., 0., 0., 0., 0.,\n",
      "       0., 0., 0., 0., 0., 0., 0., 0., 0., 0., 0., 0., 0., 0., 0., 0., 0.,\n",
      "       0., 0., 0., 0., 0., 0., 0., 0., 0., 0., 0., 0., 0., 0., 0., 0., 0.,\n",
      "       0., 0., 0.], dtype=float32), array([[-1.,  0.,  0.,  0.,  0.,  0.,  0.,  0.,  0.,  0.,  0.,  0.,  0.,\n",
      "         0.,  0.,  0.,  0.,  0.],\n",
      "       [-1.,  0.,  0.,  0.,  0.,  0.,  0.,  0.,  0.,  0.,  0.,  0.,  0.,\n",
      "         0.,  0.,  0.,  0.,  0.],\n",
      "       [ 1.,  0.,  0.,  0.,  0.,  0.,  0.,  0.,  0.,  0.,  0.,  0.,  0.,\n",
      "         0.,  0.,  0.,  0.,  0.],\n",
      "       [ 0., -1.,  0.,  0.,  0.,  0.,  0.,  0.,  0.,  0.,  0.,  0.,  0.,\n",
      "         0.,  0.,  0.,  0.,  0.],\n",
      "       [ 0., -1.,  0.,  0.,  0.,  0.,  0.,  0.,  0.,  0.,  0.,  0.,  0.,\n",
      "         0.,  0.,  0.,  0.,  0.],\n",
      "       [ 0.,  1.,  0.,  0.,  0.,  0.,  0.,  0.,  0.,  0.,  0.,  0.,  0.,\n",
      "         0.,  0.,  0.,  0.,  0.],\n",
      "       [ 0.,  0., -1.,  0.,  0.,  0.,  0.,  0.,  0.,  0.,  0.,  0.,  0.,\n",
      "         0.,  0.,  0.,  0.,  0.],\n",
      "       [ 0.,  0., -1.,  0.,  0.,  0.,  0.,  0.,  0.,  0.,  0.,  0.,  0.,\n",
      "         0.,  0.,  0.,  0.,  0.],\n",
      "       [ 0.,  0.,  1.,  0.,  0.,  0.,  0.,  0.,  0.,  0.,  0.,  0.,  0.,\n",
      "         0.,  0.,  0.,  0.,  0.],\n",
      "       [ 0.,  0.,  0., -1.,  0.,  0.,  0.,  0.,  0.,  0.,  0.,  0.,  0.,\n",
      "         0.,  0.,  0.,  0.,  0.],\n",
      "       [ 0.,  0.,  0., -1.,  0.,  0.,  0.,  0.,  0.,  0.,  0.,  0.,  0.,\n",
      "         0.,  0.,  0.,  0.,  0.],\n",
      "       [ 0.,  0.,  0.,  1.,  0.,  0.,  0.,  0.,  0.,  0.,  0.,  0.,  0.,\n",
      "         0.,  0.,  0.,  0.,  0.],\n",
      "       [ 0.,  0.,  0.,  0., -1.,  0.,  0.,  0.,  0.,  0.,  0.,  0.,  0.,\n",
      "         0.,  0.,  0.,  0.,  0.],\n",
      "       [ 0.,  0.,  0.,  0., -1.,  0.,  0.,  0.,  0.,  0.,  0.,  0.,  0.,\n",
      "         0.,  0.,  0.,  0.,  0.],\n",
      "       [ 0.,  0.,  0.,  0.,  1.,  0.,  0.,  0.,  0.,  0.,  0.,  0.,  0.,\n",
      "         0.,  0.,  0.,  0.,  0.],\n",
      "       [ 0.,  0.,  0.,  0.,  0., -1.,  0.,  0.,  0.,  0.,  0.,  0.,  0.,\n",
      "         0.,  0.,  0.,  0.,  0.],\n",
      "       [ 0.,  0.,  0.,  0.,  0., -1.,  0.,  0.,  0.,  0.,  0.,  0.,  0.,\n",
      "         0.,  0.,  0.,  0.,  0.],\n",
      "       [ 0.,  0.,  0.,  0.,  0.,  1.,  0.,  0.,  0.,  0.,  0.,  0.,  0.,\n",
      "         0.,  0.,  0.,  0.,  0.],\n",
      "       [ 0.,  0.,  0.,  0.,  0.,  0., -1.,  0.,  0.,  0.,  0.,  0.,  0.,\n",
      "         0.,  0.,  0.,  0.,  0.],\n",
      "       [ 0.,  0.,  0.,  0.,  0.,  0., -1.,  0.,  0.,  0.,  0.,  0.,  0.,\n",
      "         0.,  0.,  0.,  0.,  0.],\n",
      "       [ 0.,  0.,  0.,  0.,  0.,  0.,  1.,  0.,  0.,  0.,  0.,  0.,  0.,\n",
      "         0.,  0.,  0.,  0.,  0.],\n",
      "       [ 0.,  0.,  0.,  0.,  0.,  0.,  0., -1.,  0.,  0.,  0.,  0.,  0.,\n",
      "         0.,  0.,  0.,  0.,  0.],\n",
      "       [ 0.,  0.,  0.,  0.,  0.,  0.,  0., -1.,  0.,  0.,  0.,  0.,  0.,\n",
      "         0.,  0.,  0.,  0.,  0.],\n",
      "       [ 0.,  0.,  0.,  0.,  0.,  0.,  0.,  1.,  0.,  0.,  0.,  0.,  0.,\n",
      "         0.,  0.,  0.,  0.,  0.],\n",
      "       [ 0.,  0.,  0.,  0.,  0.,  0.,  0.,  0., -1.,  0.,  0.,  0.,  0.,\n",
      "         0.,  0.,  0.,  0.,  0.],\n",
      "       [ 0.,  0.,  0.,  0.,  0.,  0.,  0.,  0., -1.,  0.,  0.,  0.,  0.,\n",
      "         0.,  0.,  0.,  0.,  0.],\n",
      "       [ 0.,  0.,  0.,  0.,  0.,  0.,  0.,  0.,  1.,  0.,  0.,  0.,  0.,\n",
      "         0.,  0.,  0.,  0.,  0.],\n",
      "       [ 0.,  0.,  0.,  0.,  0.,  0.,  0.,  0.,  0., -1.,  0.,  0.,  0.,\n",
      "         0.,  0.,  0.,  0.,  0.],\n",
      "       [ 0.,  0.,  0.,  0.,  0.,  0.,  0.,  0.,  0., -1.,  0.,  0.,  0.,\n",
      "         0.,  0.,  0.,  0.,  0.],\n",
      "       [ 0.,  0.,  0.,  0.,  0.,  0.,  0.,  0.,  0.,  1.,  0.,  0.,  0.,\n",
      "         0.,  0.,  0.,  0.,  0.],\n",
      "       [ 0.,  0.,  0.,  0.,  0.,  0.,  0.,  0.,  0.,  0., -1.,  0.,  0.,\n",
      "         0.,  0.,  0.,  0.,  0.],\n",
      "       [ 0.,  0.,  0.,  0.,  0.,  0.,  0.,  0.,  0.,  0., -1.,  0.,  0.,\n",
      "         0.,  0.,  0.,  0.,  0.],\n",
      "       [ 0.,  0.,  0.,  0.,  0.,  0.,  0.,  0.,  0.,  0.,  1.,  0.,  0.,\n",
      "         0.,  0.,  0.,  0.,  0.],\n",
      "       [ 0.,  0.,  0.,  0.,  0.,  0.,  0.,  0.,  0.,  0.,  0., -1.,  0.,\n",
      "         0.,  0.,  0.,  0.,  0.],\n",
      "       [ 0.,  0.,  0.,  0.,  0.,  0.,  0.,  0.,  0.,  0.,  0., -1.,  0.,\n",
      "         0.,  0.,  0.,  0.,  0.],\n",
      "       [ 0.,  0.,  0.,  0.,  0.,  0.,  0.,  0.,  0.,  0.,  0.,  1.,  0.,\n",
      "         0.,  0.,  0.,  0.,  0.],\n",
      "       [ 0.,  0.,  0.,  0.,  0.,  0.,  0.,  0.,  0.,  0.,  0.,  0., -1.,\n",
      "         0.,  0.,  0.,  0.,  0.],\n",
      "       [ 0.,  0.,  0.,  0.,  0.,  0.,  0.,  0.,  0.,  0.,  0.,  0., -1.,\n",
      "         0.,  0.,  0.,  0.,  0.],\n",
      "       [ 0.,  0.,  0.,  0.,  0.,  0.,  0.,  0.,  0.,  0.,  0.,  0.,  1.,\n",
      "         0.,  0.,  0.,  0.,  0.],\n",
      "       [ 0.,  0.,  0.,  0.,  0.,  0.,  0.,  0.,  0.,  0.,  0.,  0.,  0.,\n",
      "        -1.,  0.,  0.,  0.,  0.],\n",
      "       [ 0.,  0.,  0.,  0.,  0.,  0.,  0.,  0.,  0.,  0.,  0.,  0.,  0.,\n",
      "        -1.,  0.,  0.,  0.,  0.],\n",
      "       [ 0.,  0.,  0.,  0.,  0.,  0.,  0.,  0.,  0.,  0.,  0.,  0.,  0.,\n",
      "         1.,  0.,  0.,  0.,  0.],\n",
      "       [ 0.,  0.,  0.,  0.,  0.,  0.,  0.,  0.,  0.,  0.,  0.,  0.,  0.,\n",
      "         0., -1.,  0.,  0.,  0.],\n",
      "       [ 0.,  0.,  0.,  0.,  0.,  0.,  0.,  0.,  0.,  0.,  0.,  0.,  0.,\n",
      "         0., -1.,  0.,  0.,  0.],\n",
      "       [ 0.,  0.,  0.,  0.,  0.,  0.,  0.,  0.,  0.,  0.,  0.,  0.,  0.,\n",
      "         0.,  1.,  0.,  0.,  0.],\n",
      "       [ 0.,  0.,  0.,  0.,  0.,  0.,  0.,  0.,  0.,  0.,  0.,  0.,  0.,\n",
      "         0.,  0., -1.,  0.,  0.],\n",
      "       [ 0.,  0.,  0.,  0.,  0.,  0.,  0.,  0.,  0.,  0.,  0.,  0.,  0.,\n",
      "         0.,  0., -1.,  0.,  0.],\n",
      "       [ 0.,  0.,  0.,  0.,  0.,  0.,  0.,  0.,  0.,  0.,  0.,  0.,  0.,\n",
      "         0.,  0.,  1.,  0.,  0.],\n",
      "       [ 0.,  0.,  0.,  0.,  0.,  0.,  0.,  0.,  0.,  0.,  0.,  0.,  0.,\n",
      "         0.,  0.,  0., -1.,  0.],\n",
      "       [ 0.,  0.,  0.,  0.,  0.,  0.,  0.,  0.,  0.,  0.,  0.,  0.,  0.,\n",
      "         0.,  0.,  0., -1.,  0.],\n",
      "       [ 0.,  0.,  0.,  0.,  0.,  0.,  0.,  0.,  0.,  0.,  0.,  0.,  0.,\n",
      "         0.,  0.,  0.,  1.,  0.],\n",
      "       [ 0.,  0.,  0.,  0.,  0.,  0.,  0.,  0.,  0.,  0.,  0.,  0.,  0.,\n",
      "         0.,  0.,  0.,  0., -1.],\n",
      "       [ 0.,  0.,  0.,  0.,  0.,  0.,  0.,  0.,  0.,  0.,  0.,  0.,  0.,\n",
      "         0.,  0.,  0.,  0., -1.],\n",
      "       [ 0.,  0.,  0.,  0.,  0.,  0.,  0.,  0.,  0.,  0.,  0.,  0.,  0.,\n",
      "         0.,  0.,  0.,  0.,  1.]], dtype=float32), array([0., 0., 0., 0., 0., 0., 0., 0., 0., 0., 0., 0., 0., 0., 0., 0., 0.,\n",
      "       0.], dtype=float32), array([[-1.,  0.,  0.,  0.,  0.,  0.,  0.,  0.,  0.,  0.,  0.,  0.,  0.,\n",
      "         0.,  0.,  0.,  0.,  0.,  0.,  0.,  0.,  0.,  0.,  0.,  0.,  0.,\n",
      "         0.],\n",
      "       [ 1., -1.,  1.,  0.,  0.,  0.,  0.,  0.,  0.,  0.,  0.,  0.,  0.,\n",
      "         0.,  0.,  0.,  0.,  0.,  0.,  0.,  0.,  0.,  0.,  0.,  0.,  0.,\n",
      "         0.],\n",
      "       [ 0.,  0.,  0., -1.,  0.,  0.,  0.,  0.,  0.,  0.,  0.,  0.,  0.,\n",
      "         0.,  0.,  0.,  0.,  0.,  0.,  0.,  0.,  0.,  0.,  0.,  0.,  0.,\n",
      "         0.],\n",
      "       [ 0.,  0.,  0.,  1., -1.,  1.,  0.,  0.,  0.,  0.,  0.,  0.,  0.,\n",
      "         0.,  0.,  0.,  0.,  0.,  0.,  0.,  0.,  0.,  0.,  0.,  0.,  0.,\n",
      "         0.],\n",
      "       [ 0.,  0.,  0.,  0.,  0.,  0., -1.,  0.,  0.,  0.,  0.,  0.,  0.,\n",
      "         0.,  0.,  0.,  0.,  0.,  0.,  0.,  0.,  0.,  0.,  0.,  0.,  0.,\n",
      "         0.],\n",
      "       [ 0.,  0.,  0.,  0.,  0.,  0.,  1., -1.,  1.,  0.,  0.,  0.,  0.,\n",
      "         0.,  0.,  0.,  0.,  0.,  0.,  0.,  0.,  0.,  0.,  0.,  0.,  0.,\n",
      "         0.],\n",
      "       [ 0.,  0.,  0.,  0.,  0.,  0.,  0.,  0.,  0., -1.,  0.,  0.,  0.,\n",
      "         0.,  0.,  0.,  0.,  0.,  0.,  0.,  0.,  0.,  0.,  0.,  0.,  0.,\n",
      "         0.],\n",
      "       [ 0.,  0.,  0.,  0.,  0.,  0.,  0.,  0.,  0.,  1., -1.,  1.,  0.,\n",
      "         0.,  0.,  0.,  0.,  0.,  0.,  0.,  0.,  0.,  0.,  0.,  0.,  0.,\n",
      "         0.],\n",
      "       [ 0.,  0.,  0.,  0.,  0.,  0.,  0.,  0.,  0.,  0.,  0.,  0., -1.,\n",
      "         0.,  0.,  0.,  0.,  0.,  0.,  0.,  0.,  0.,  0.,  0.,  0.,  0.,\n",
      "         0.],\n",
      "       [ 0.,  0.,  0.,  0.,  0.,  0.,  0.,  0.,  0.,  0.,  0.,  0.,  1.,\n",
      "        -1.,  1.,  0.,  0.,  0.,  0.,  0.,  0.,  0.,  0.,  0.,  0.,  0.,\n",
      "         0.],\n",
      "       [ 0.,  0.,  0.,  0.,  0.,  0.,  0.,  0.,  0.,  0.,  0.,  0.,  0.,\n",
      "         0.,  0., -1.,  0.,  0.,  0.,  0.,  0.,  0.,  0.,  0.,  0.,  0.,\n",
      "         0.],\n",
      "       [ 0.,  0.,  0.,  0.,  0.,  0.,  0.,  0.,  0.,  0.,  0.,  0.,  0.,\n",
      "         0.,  0.,  1., -1.,  1.,  0.,  0.,  0.,  0.,  0.,  0.,  0.,  0.,\n",
      "         0.],\n",
      "       [ 0.,  0.,  0.,  0.,  0.,  0.,  0.,  0.,  0.,  0.,  0.,  0.,  0.,\n",
      "         0.,  0.,  0.,  0.,  0., -1.,  0.,  0.,  0.,  0.,  0.,  0.,  0.,\n",
      "         0.],\n",
      "       [ 0.,  0.,  0.,  0.,  0.,  0.,  0.,  0.,  0.,  0.,  0.,  0.,  0.,\n",
      "         0.,  0.,  0.,  0.,  0.,  1., -1.,  1.,  0.,  0.,  0.,  0.,  0.,\n",
      "         0.],\n",
      "       [ 0.,  0.,  0.,  0.,  0.,  0.,  0.,  0.,  0.,  0.,  0.,  0.,  0.,\n",
      "         0.,  0.,  0.,  0.,  0.,  0.,  0.,  0., -1.,  0.,  0.,  0.,  0.,\n",
      "         0.],\n",
      "       [ 0.,  0.,  0.,  0.,  0.,  0.,  0.,  0.,  0.,  0.,  0.,  0.,  0.,\n",
      "         0.,  0.,  0.,  0.,  0.,  0.,  0.,  0.,  1., -1.,  1.,  0.,  0.,\n",
      "         0.],\n",
      "       [ 0.,  0.,  0.,  0.,  0.,  0.,  0.,  0.,  0.,  0.,  0.,  0.,  0.,\n",
      "         0.,  0.,  0.,  0.,  0.,  0.,  0.,  0.,  0.,  0.,  0., -1.,  0.,\n",
      "         0.],\n",
      "       [ 0.,  0.,  0.,  0.,  0.,  0.,  0.,  0.,  0.,  0.,  0.,  0.,  0.,\n",
      "         0.,  0.,  0.,  0.,  0.,  0.,  0.,  0.,  0.,  0.,  0.,  1., -1.,\n",
      "         1.]], dtype=float32), array([0., 0., 0., 0., 0., 0., 0., 0., 0., 0., 0., 0., 0., 0., 0., 0., 0.,\n",
      "       0., 0., 0., 0., 0., 0., 0., 0., 0., 0.], dtype=float32), array([[-1.,  0.,  0.,  0.,  0.,  0.,  0.,  0.,  0.],\n",
      "       [-1.,  0.,  0.,  0.,  0.,  0.,  0.,  0.,  0.],\n",
      "       [ 1.,  0.,  0.,  0.,  0.,  0.,  0.,  0.,  0.],\n",
      "       [ 0., -1.,  0.,  0.,  0.,  0.,  0.,  0.,  0.],\n",
      "       [ 0., -1.,  0.,  0.,  0.,  0.,  0.,  0.,  0.],\n",
      "       [ 0.,  1.,  0.,  0.,  0.,  0.,  0.,  0.,  0.],\n",
      "       [ 0.,  0., -1.,  0.,  0.,  0.,  0.,  0.,  0.],\n",
      "       [ 0.,  0., -1.,  0.,  0.,  0.,  0.,  0.,  0.],\n",
      "       [ 0.,  0.,  1.,  0.,  0.,  0.,  0.,  0.,  0.],\n",
      "       [ 0.,  0.,  0., -1.,  0.,  0.,  0.,  0.,  0.],\n",
      "       [ 0.,  0.,  0., -1.,  0.,  0.,  0.,  0.,  0.],\n",
      "       [ 0.,  0.,  0.,  1.,  0.,  0.,  0.,  0.,  0.],\n",
      "       [ 0.,  0.,  0.,  0., -1.,  0.,  0.,  0.,  0.],\n",
      "       [ 0.,  0.,  0.,  0., -1.,  0.,  0.,  0.,  0.],\n",
      "       [ 0.,  0.,  0.,  0.,  1.,  0.,  0.,  0.,  0.],\n",
      "       [ 0.,  0.,  0.,  0.,  0., -1.,  0.,  0.,  0.],\n",
      "       [ 0.,  0.,  0.,  0.,  0., -1.,  0.,  0.,  0.],\n",
      "       [ 0.,  0.,  0.,  0.,  0.,  1.,  0.,  0.,  0.],\n",
      "       [ 0.,  0.,  0.,  0.,  0.,  0., -1.,  0.,  0.],\n",
      "       [ 0.,  0.,  0.,  0.,  0.,  0., -1.,  0.,  0.],\n",
      "       [ 0.,  0.,  0.,  0.,  0.,  0.,  1.,  0.,  0.],\n",
      "       [ 0.,  0.,  0.,  0.,  0.,  0.,  0., -1.,  0.],\n",
      "       [ 0.,  0.,  0.,  0.,  0.,  0.,  0., -1.,  0.],\n",
      "       [ 0.,  0.,  0.,  0.,  0.,  0.,  0.,  1.,  0.],\n",
      "       [ 0.,  0.,  0.,  0.,  0.,  0.,  0.,  0., -1.],\n",
      "       [ 0.,  0.,  0.,  0.,  0.,  0.,  0.,  0., -1.],\n",
      "       [ 0.,  0.,  0.,  0.,  0.,  0.,  0.,  0.,  1.]], dtype=float32), array([0., 0., 0., 0., 0., 0., 0., 0., 0.], dtype=float32)]\n",
      "[array([[0.       ],\n",
      "       [0.       ],\n",
      "       [0.       ],\n",
      "       [0.       ],\n",
      "       [0.7709314],\n",
      "       [0.       ],\n",
      "       [0.       ],\n",
      "       [0.       ],\n",
      "       [0.       ]], dtype=float32), array([0.], dtype=float32)]\n"
     ]
    }
   ],
   "source": [
    "for layer in new_model_full.layers:\n",
    "    # print(layer.get_weights())\n",
    "    #print()"
   ],
   "metadata": {
    "collapsed": false,
    "pycharm": {
     "name": "#%%\n"
    }
   }
  },
  {
   "cell_type": "markdown",
   "source": [
    "Das Taining nur für die Minima verbessert das Netzwerk nicht, selbst nach vermehrten Trainings.\n",
    "\n",
    "- verschiedene Probleme?\n",
    "- mit den selben Parametern von vorne starten\n",
    "- die erste Layer auch einsetzen, und trainieren lassen!!\n",
    "- 0.0004 -> 0.00027 (wasnt it :( )\n",
    "- die verschiedenen Layer ändern sich!\n",
    "\n",
    "Random Model:\n",
    "- Direkt:\n",
    "- Dauer: 2500 iterations\n",
    "\n",
    "Lösungsansätze:\n",
    "- mit geeigneter Randfunktion beginnen (siehe ohne!)\n",
    "- nicht gegen 0 teilen!!\n",
    "- initialisieren funktioniert ganz gut :)\n",
    "- nur kleine \\alpha für Adam 00055"
   ],
   "metadata": {
    "collapsed": false
   }
  },
  {
   "cell_type": "code",
   "execution_count": null,
   "outputs": [],
   "source": [],
   "metadata": {
    "collapsed": false,
    "pycharm": {
     "name": "#%%\n"
    }
   }
  }
 ],
 "metadata": {
  "kernelspec": {
   "display_name": "Python 3",
   "language": "python",
   "name": "python3"
  },
  "language_info": {
   "codemirror_mode": {
    "name": "ipython",
    "version": 2
   },
   "file_extension": ".py",
   "mimetype": "text/x-python",
   "name": "python",
   "nbconvert_exporter": "python",
   "pygments_lexer": "ipython2",
   "version": "2.7.6"
  }
 },
 "nbformat": 4,
 "nbformat_minor": 0
}