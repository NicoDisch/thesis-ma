{
 "cells": [
  {
   "cell_type": "code",
   "execution_count": null,
   "metadata": {
    "collapsed": true
   },
   "outputs": [],
   "source": [
    "import numpy as np\n",
    "import pandas as pd\n",
    "import tensorflow as tf\n",
    "from tensorflow.keras import layers"
   ]
  },
  {
   "cell_type": "code",
   "execution_count": null,
   "outputs": [],
   "source": [
    "encoder_input = tf.keras.Input(shape=(2))\n",
    "x = layers.Dense(3, activation=\"relu\", name=\"layer1\")(encoder_input)\n",
    "#x = layers.Dense(1, activation=\"relu\")(x)\n",
    "encoder_output = layers.Dense(1, name=\"end_layer\")(x)\n",
    "\n",
    "model = tf.keras.Model(encoder_input, encoder_output, name=\"encoder\")\n",
    "\n",
    "model.summary()"
   ],
   "metadata": {
    "collapsed": false,
    "pycharm": {
     "name": "#%%\n"
    }
   }
  },
  {
   "cell_type": "code",
   "execution_count": null,
   "outputs": [],
   "source": [
    "print(model.get_layer(\"layer1\").get_weights())\n",
    "\n",
    "a = np.array([[1,0,0],[-1,1,-1]])\n",
    "b = np.array([0,0,0])\n",
    "model.get_layer(\"layer1\").set_weights([a,b])\n",
    "print(model.get_layer(\"layer1\").get_weights())"
   ],
   "metadata": {
    "collapsed": false,
    "pycharm": {
     "name": "#%%\n"
    }
   }
  },
  {
   "cell_type": "code",
   "execution_count": null,
   "outputs": [],
   "source": [
    "print(model.get_layer(\"end_layer\").get_weights())\n",
    "\n",
    "a = np.array([1,1,-1]).reshape((3,1))\n",
    "b = np.array([0])\n",
    "\n",
    "model.get_layer(\"end_layer\").set_weights([a,b])\n",
    "print(model.get_layer(\"end_layer\").get_weights())\n",
    "\n"
   ],
   "metadata": {
    "collapsed": false,
    "pycharm": {
     "name": "#%%\n"
    }
   }
  },
  {
   "cell_type": "code",
   "execution_count": null,
   "outputs": [],
   "source": [
    "tensor = tf.convert_to_tensor(np.array([3,2]).reshape(1,2))\n",
    "print(float(model(tensor)))"
   ],
   "metadata": {
    "collapsed": false,
    "pycharm": {
     "name": "#%%\n"
    }
   }
  },
  {
   "cell_type": "code",
   "execution_count": null,
   "outputs": [],
   "source": [
    "def create_max_model(name1,name2):\n",
    "\n",
    "    max_input = tf.keras.Input(shape=(2))\n",
    "    x = layers.Dense(3, activation=\"relu\", name=\"layer{}\".format(name1))(max_input)\n",
    "    max_output = layers.Dense(1, name=\"layer{}\".format(name2))(x)\n",
    "    max_model = tf.keras.Model(max_input, max_output, name=\"max\")\n",
    "    a = np.array([[1,0,0],[-1,1,-1]])\n",
    "    b = np.array([0,0,0])\n",
    "    max_model.get_layer(\"layer{}\".format(name1)).set_weights([a,b])\n",
    "    a = np.array([1,1,-1]).reshape((3,1))\n",
    "    b = np.array([0])\n",
    "    max_model.get_layer(\"layer{}\".format(name2)).set_weights([a,b])\n",
    "    return max_model#, max_input, max_output\n",
    "\n",
    "a_model= create_max_model(\"a1\",\"a2\")\n",
    "b_model = create_max_model(\"b1\",\"b2\")\n",
    "\n",
    "#print(a_model(tensor))\n",
    "#m_model.summary()"
   ],
   "metadata": {
    "collapsed": false,
    "pycharm": {
     "name": "#%%\n"
    }
   }
  },
  {
   "cell_type": "code",
   "execution_count": null,
   "outputs": [],
   "source": [
    "#TODO: define function that generates a model\n",
    "#TODO: chain them\n",
    "\n",
    "\n",
    "#encoder_input = tf.keras.Input(shape=(2))\n",
    "x = layers.Concatenate()([a_model.output, b_model.output])\n",
    "#x = layers.Concatenate()([a_model.output, layers.Input(1)])\n",
    "#x = layers.Reshape((2,), name=\"layer_11\")(x)\n",
    "x = layers.Dense(3, activation=\"relu\", name=\"layer1\")(x)\n",
    "larger_max = layers.Dense(1, name=\"layer_21\")(x)\n",
    "\n",
    "model_b = tf.keras.Model([a_model.input, b_model.input], larger_max, name=\"encoder\")\n",
    "#model_b = tf.keras.Model([a_model.input,  layers.Input(1)], larger_max, name=\"encoder\")\n",
    "\n",
    "a = np.array([[1,0,0],[-1,1,-1]])\n",
    "b = np.array([0,0,0])\n",
    "model_b.layers[-2].set_weights([a,b])\n",
    "\n",
    "a = np.array([1,1,-1]).reshape((3,1))\n",
    "b = np.array([0])\n",
    "model_b.layers[-1].set_weights([a,b])\n",
    "\n",
    "\n",
    "model_b.summary()\n",
    "a1 = tf.convert_to_tensor( np.array([1,2]).reshape(1,2))\n",
    "b1 = tf.convert_to_tensor( np.array([1,2]).reshape(1,2))\n",
    "\n",
    "print(a_model(b1))\n",
    "print(model_b([a1,b1]))\n",
    "#tf.keras.utils.plot_model(model_b)"
   ],
   "metadata": {
    "collapsed": false,
    "pycharm": {
     "name": "#%%\n"
    }
   }
  },
  {
   "cell_type": "code",
   "execution_count": null,
   "outputs": [],
   "source": [
    "a_test = tf.convert_to_tensor( np.array([2.3]).reshape(1,1))\n",
    "newIn1 = layers.Input(batch_shape = (1,1))\n",
    "newOut1 = layers.Dense(1,activation=lambda xy: xy, name=\"a\")(newIn1)\n",
    "new_model = tf.keras.Model(newIn1, newOut1)\n",
    "a = np.array([1]).reshape((1,1))\n",
    "b = np.array([0])\n",
    "new_model.get_layer(\"a\").set_weights([a,b])\n",
    "new_model.summary()\n",
    "\n",
    "new_model(a_test)"
   ],
   "metadata": {
    "collapsed": false,
    "pycharm": {
     "name": "#%%\n"
    }
   }
  },
  {
   "cell_type": "code",
   "execution_count": null,
   "outputs": [],
   "source": [
    "\n",
    "def create_max_model_rev():\n",
    "\n",
    "    max_input = tf.keras.Input(shape=(2))\n",
    "    x = layers.Dense(3, activation=\"relu\")(max_input)\n",
    "    max_output = layers.Dense(1)(x)\n",
    "    max_model = tf.keras.Model(max_input, max_output, name=\"max\")\n",
    "    a = np.array([[1,0,0],[-1,1,-1]])\n",
    "    b = np.array([0,0,0])\n",
    "    max_model.layers[1].set_weights([a,b])\n",
    "    a = np.array([1,1,-1]).reshape((3,1))\n",
    "    b = np.array([0])\n",
    "    max_model.layers[2].set_weights([a,b])\n",
    "    return max_model#, max_input, max_output\n",
    "\n",
    "\n",
    "\n",
    "def recursive_max(array):\n",
    "    length = len(array)\n",
    "    index_counter = 0\n",
    "    if length == 1:\n",
    "        newIn1 = layers.Input(batch_shape = (1,1))\n",
    "        newOut1 = layers.Dense(1,activation=lambda xy: xy)(newIn1)\n",
    "        new_model = tf.keras.Model(newIn1, newOut1)\n",
    "        a = np.array([1]).reshape((1,1))\n",
    "        b = np.array([0])\n",
    "        new_model.layers[1].set_weights([a,b])\n",
    "        return new_model\n",
    "    elif length == 2:\n",
    "        new_model = create_max_model_rev()\n",
    "        return new_model\n",
    "    else:\n",
    "        first_arr, second_arr = np.array_split(array,2)\n",
    "        model_f = recursive_max(first_arr)\n",
    "        model_s = recursive_max(second_arr)\n",
    "        #model_f.summary()\n",
    "        #model_s.summary()\n",
    "        x = layers.Concatenate()([model_f.output, model_s.output])\n",
    "        x = layers.Dense(3, activation=\"relu\")(x)\n",
    "        larger_max = layers.Dense(1)(x)\n",
    "        model_max = tf.keras.Model([model_f.input, model_s.input], larger_max, name=\"encoder\")\n",
    "        # first layer\n",
    "        a = np.array([[1,0,0],[-1,1,-1]])\n",
    "        b = np.array([0,0,0])\n",
    "        model_max.layers[-2].set_weights([a,b])\n",
    "\n",
    "        # second layer\n",
    "        a = np.array([1,1,-1]).reshape((3,1))\n",
    "        b = np.array([0])\n",
    "        model_max.layers[-1].set_weights([a,b])\n",
    "        index_counter += 1\n",
    "        return model_max\n",
    "\n",
    "\n",
    "a_test = tf.convert_to_tensor( np.array([1,2]).reshape(1,2))\n",
    "b_test = tf.convert_to_tensor( np.array([3,5]).reshape(1,2))\n",
    "\n",
    "#print(model.layers)\n",
    "#model = create_max_model_rev()\n",
    "final_model = recursive_max([1,2,3,4,5])\n",
    "tensor = tf.reshape( tf.convert_to_tensor( np.array([1,2,3,4,5])),final_model.input)\n",
    "final_model.summary()\n",
    "print(final_model.input)\n",
    "#print(final_model([a_test,b_test]))\n",
    "\n"
   ],
   "metadata": {
    "collapsed": false,
    "pycharm": {
     "name": "#%%\n"
    }
   }
  }
 ],
 "metadata": {
  "kernelspec": {
   "display_name": "Python 3",
   "language": "python",
   "name": "python3"
  },
  "language_info": {
   "codemirror_mode": {
    "name": "ipython",
    "version": 2
   },
   "file_extension": ".py",
   "mimetype": "text/x-python",
   "name": "python",
   "nbconvert_exporter": "python",
   "pygments_lexer": "ipython2",
   "version": "2.7.6"
  }
 },
 "nbformat": 4,
 "nbformat_minor": 0
}